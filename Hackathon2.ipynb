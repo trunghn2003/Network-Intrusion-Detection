{
  "cells": [
    {
      "cell_type": "code",
      "execution_count": null,
      "id": "961e7064",
      "metadata": {
        "id": "961e7064"
      },
      "outputs": [],
      "source": [
        "import pandas as pd\n",
        "import numpy as np"
      ]
    },
    {
      "cell_type": "code",
      "execution_count": null,
      "id": "8c6281e5",
      "metadata": {
        "id": "8c6281e5"
      },
      "outputs": [],
      "source": [
        "train_data=pd.read_csv('Train_data.csv')\n",
        "test_data=pd.read_csv('Test_data.csv')"
      ]
    },
    {
      "cell_type": "code",
      "execution_count": null,
      "id": "47586ec9",
      "metadata": {
        "id": "47586ec9",
        "outputId": "8b687b21-098a-428e-d3b0-840a41d09a5d"
      },
      "outputs": [
        {
          "data": {
            "text/html": [
              "<div>\n",
              "<style scoped>\n",
              "    .dataframe tbody tr th:only-of-type {\n",
              "        vertical-align: middle;\n",
              "    }\n",
              "\n",
              "    .dataframe tbody tr th {\n",
              "        vertical-align: top;\n",
              "    }\n",
              "\n",
              "    .dataframe thead th {\n",
              "        text-align: right;\n",
              "    }\n",
              "</style>\n",
              "<table border=\"1\" class=\"dataframe\">\n",
              "  <thead>\n",
              "    <tr style=\"text-align: right;\">\n",
              "      <th></th>\n",
              "      <th>duration</th>\n",
              "      <th>protocoltype</th>\n",
              "      <th>service</th>\n",
              "      <th>flag</th>\n",
              "      <th>srcbytes</th>\n",
              "      <th>dstbytes</th>\n",
              "      <th>land</th>\n",
              "      <th>wrongfragment</th>\n",
              "      <th>urgent</th>\n",
              "      <th>hot</th>\n",
              "      <th>...</th>\n",
              "      <th>dsthostsamesrvrate</th>\n",
              "      <th>dsthostdiffsrvrate</th>\n",
              "      <th>dsthostsamesrcportrate</th>\n",
              "      <th>dsthostsrvdiffhostrate</th>\n",
              "      <th>dsthostserrorrate</th>\n",
              "      <th>dsthostsrvserrorrate</th>\n",
              "      <th>dsthostrerrorrate</th>\n",
              "      <th>dsthostsrvrerrorrate</th>\n",
              "      <th>lastflag</th>\n",
              "      <th>attack</th>\n",
              "    </tr>\n",
              "  </thead>\n",
              "  <tbody>\n",
              "    <tr>\n",
              "      <th>0</th>\n",
              "      <td>0</td>\n",
              "      <td>tcp</td>\n",
              "      <td>netbios_dgm</td>\n",
              "      <td>REJ</td>\n",
              "      <td>0</td>\n",
              "      <td>0</td>\n",
              "      <td>0</td>\n",
              "      <td>0</td>\n",
              "      <td>0</td>\n",
              "      <td>0</td>\n",
              "      <td>...</td>\n",
              "      <td>0.06</td>\n",
              "      <td>0.06</td>\n",
              "      <td>0.00</td>\n",
              "      <td>0.00</td>\n",
              "      <td>0.00</td>\n",
              "      <td>0.0</td>\n",
              "      <td>1.00</td>\n",
              "      <td>1.0</td>\n",
              "      <td>21</td>\n",
              "      <td>1</td>\n",
              "    </tr>\n",
              "    <tr>\n",
              "      <th>1</th>\n",
              "      <td>0</td>\n",
              "      <td>tcp</td>\n",
              "      <td>smtp</td>\n",
              "      <td>SF</td>\n",
              "      <td>1239</td>\n",
              "      <td>400</td>\n",
              "      <td>0</td>\n",
              "      <td>0</td>\n",
              "      <td>0</td>\n",
              "      <td>0</td>\n",
              "      <td>...</td>\n",
              "      <td>0.45</td>\n",
              "      <td>0.04</td>\n",
              "      <td>0.00</td>\n",
              "      <td>0.00</td>\n",
              "      <td>0.11</td>\n",
              "      <td>0.0</td>\n",
              "      <td>0.02</td>\n",
              "      <td>0.0</td>\n",
              "      <td>18</td>\n",
              "      <td>0</td>\n",
              "    </tr>\n",
              "    <tr>\n",
              "      <th>2</th>\n",
              "      <td>0</td>\n",
              "      <td>tcp</td>\n",
              "      <td>http</td>\n",
              "      <td>SF</td>\n",
              "      <td>222</td>\n",
              "      <td>945</td>\n",
              "      <td>0</td>\n",
              "      <td>0</td>\n",
              "      <td>0</td>\n",
              "      <td>0</td>\n",
              "      <td>...</td>\n",
              "      <td>1.00</td>\n",
              "      <td>0.00</td>\n",
              "      <td>0.02</td>\n",
              "      <td>0.03</td>\n",
              "      <td>0.00</td>\n",
              "      <td>0.0</td>\n",
              "      <td>0.00</td>\n",
              "      <td>0.0</td>\n",
              "      <td>21</td>\n",
              "      <td>0</td>\n",
              "    </tr>\n",
              "    <tr>\n",
              "      <th>3</th>\n",
              "      <td>0</td>\n",
              "      <td>tcp</td>\n",
              "      <td>http</td>\n",
              "      <td>SF</td>\n",
              "      <td>235</td>\n",
              "      <td>1380</td>\n",
              "      <td>0</td>\n",
              "      <td>0</td>\n",
              "      <td>0</td>\n",
              "      <td>0</td>\n",
              "      <td>...</td>\n",
              "      <td>1.00</td>\n",
              "      <td>0.00</td>\n",
              "      <td>0.00</td>\n",
              "      <td>0.00</td>\n",
              "      <td>0.00</td>\n",
              "      <td>0.0</td>\n",
              "      <td>0.00</td>\n",
              "      <td>0.0</td>\n",
              "      <td>21</td>\n",
              "      <td>0</td>\n",
              "    </tr>\n",
              "    <tr>\n",
              "      <th>4</th>\n",
              "      <td>0</td>\n",
              "      <td>tcp</td>\n",
              "      <td>uucp_path</td>\n",
              "      <td>REJ</td>\n",
              "      <td>0</td>\n",
              "      <td>0</td>\n",
              "      <td>0</td>\n",
              "      <td>0</td>\n",
              "      <td>0</td>\n",
              "      <td>0</td>\n",
              "      <td>...</td>\n",
              "      <td>0.01</td>\n",
              "      <td>0.08</td>\n",
              "      <td>0.00</td>\n",
              "      <td>0.00</td>\n",
              "      <td>0.00</td>\n",
              "      <td>0.0</td>\n",
              "      <td>1.00</td>\n",
              "      <td>1.0</td>\n",
              "      <td>19</td>\n",
              "      <td>1</td>\n",
              "    </tr>\n",
              "  </tbody>\n",
              "</table>\n",
              "<p>5 rows × 43 columns</p>\n",
              "</div>"
            ],
            "text/plain": [
              "   duration protocoltype      service flag  srcbytes  dstbytes  land  \\\n",
              "0         0          tcp  netbios_dgm  REJ         0         0     0   \n",
              "1         0          tcp         smtp   SF      1239       400     0   \n",
              "2         0          tcp         http   SF       222       945     0   \n",
              "3         0          tcp         http   SF       235      1380     0   \n",
              "4         0          tcp    uucp_path  REJ         0         0     0   \n",
              "\n",
              "   wrongfragment  urgent  hot  ...  dsthostsamesrvrate  dsthostdiffsrvrate  \\\n",
              "0              0       0    0  ...                0.06                0.06   \n",
              "1              0       0    0  ...                0.45                0.04   \n",
              "2              0       0    0  ...                1.00                0.00   \n",
              "3              0       0    0  ...                1.00                0.00   \n",
              "4              0       0    0  ...                0.01                0.08   \n",
              "\n",
              "   dsthostsamesrcportrate  dsthostsrvdiffhostrate  dsthostserrorrate  \\\n",
              "0                    0.00                    0.00               0.00   \n",
              "1                    0.00                    0.00               0.11   \n",
              "2                    0.02                    0.03               0.00   \n",
              "3                    0.00                    0.00               0.00   \n",
              "4                    0.00                    0.00               0.00   \n",
              "\n",
              "   dsthostsrvserrorrate  dsthostrerrorrate  dsthostsrvrerrorrate  lastflag  \\\n",
              "0                   0.0               1.00                   1.0        21   \n",
              "1                   0.0               0.02                   0.0        18   \n",
              "2                   0.0               0.00                   0.0        21   \n",
              "3                   0.0               0.00                   0.0        21   \n",
              "4                   0.0               1.00                   1.0        19   \n",
              "\n",
              "   attack  \n",
              "0       1  \n",
              "1       0  \n",
              "2       0  \n",
              "3       0  \n",
              "4       1  \n",
              "\n",
              "[5 rows x 43 columns]"
            ]
          },
          "execution_count": 3,
          "metadata": {},
          "output_type": "execute_result"
        }
      ],
      "source": [
        "train_data.head()"
      ]
    },
    {
      "cell_type": "code",
      "execution_count": null,
      "id": "160ecddb",
      "metadata": {
        "id": "160ecddb",
        "outputId": "b7cb8e06-cb45-4e4b-e6d2-5805c670f6f5"
      },
      "outputs": [
        {
          "data": {
            "text/html": [
              "<div>\n",
              "<style scoped>\n",
              "    .dataframe tbody tr th:only-of-type {\n",
              "        vertical-align: middle;\n",
              "    }\n",
              "\n",
              "    .dataframe tbody tr th {\n",
              "        vertical-align: top;\n",
              "    }\n",
              "\n",
              "    .dataframe thead th {\n",
              "        text-align: right;\n",
              "    }\n",
              "</style>\n",
              "<table border=\"1\" class=\"dataframe\">\n",
              "  <thead>\n",
              "    <tr style=\"text-align: right;\">\n",
              "      <th></th>\n",
              "      <th>duration</th>\n",
              "      <th>protocoltype</th>\n",
              "      <th>service</th>\n",
              "      <th>flag</th>\n",
              "      <th>srcbytes</th>\n",
              "      <th>dstbytes</th>\n",
              "      <th>land</th>\n",
              "      <th>wrongfragment</th>\n",
              "      <th>urgent</th>\n",
              "      <th>hot</th>\n",
              "      <th>...</th>\n",
              "      <th>dsthostsamesrvrate</th>\n",
              "      <th>dsthostdiffsrvrate</th>\n",
              "      <th>dsthostsamesrcportrate</th>\n",
              "      <th>dsthostsrvdiffhostrate</th>\n",
              "      <th>dsthostserrorrate</th>\n",
              "      <th>dsthostsrvserrorrate</th>\n",
              "      <th>dsthostrerrorrate</th>\n",
              "      <th>dsthostsrvrerrorrate</th>\n",
              "      <th>lastflag</th>\n",
              "      <th>attack</th>\n",
              "    </tr>\n",
              "  </thead>\n",
              "  <tbody>\n",
              "    <tr>\n",
              "      <th>0</th>\n",
              "      <td>0</td>\n",
              "      <td>tcp</td>\n",
              "      <td>netbios_dgm</td>\n",
              "      <td>REJ</td>\n",
              "      <td>0</td>\n",
              "      <td>0</td>\n",
              "      <td>0</td>\n",
              "      <td>0</td>\n",
              "      <td>0</td>\n",
              "      <td>0</td>\n",
              "      <td>...</td>\n",
              "      <td>0.06</td>\n",
              "      <td>0.06</td>\n",
              "      <td>0.00</td>\n",
              "      <td>0.00</td>\n",
              "      <td>0.00</td>\n",
              "      <td>0.00</td>\n",
              "      <td>1.00</td>\n",
              "      <td>1.00</td>\n",
              "      <td>21</td>\n",
              "      <td>1</td>\n",
              "    </tr>\n",
              "    <tr>\n",
              "      <th>1</th>\n",
              "      <td>0</td>\n",
              "      <td>tcp</td>\n",
              "      <td>smtp</td>\n",
              "      <td>SF</td>\n",
              "      <td>1239</td>\n",
              "      <td>400</td>\n",
              "      <td>0</td>\n",
              "      <td>0</td>\n",
              "      <td>0</td>\n",
              "      <td>0</td>\n",
              "      <td>...</td>\n",
              "      <td>0.45</td>\n",
              "      <td>0.04</td>\n",
              "      <td>0.00</td>\n",
              "      <td>0.00</td>\n",
              "      <td>0.11</td>\n",
              "      <td>0.00</td>\n",
              "      <td>0.02</td>\n",
              "      <td>0.00</td>\n",
              "      <td>18</td>\n",
              "      <td>0</td>\n",
              "    </tr>\n",
              "    <tr>\n",
              "      <th>2</th>\n",
              "      <td>0</td>\n",
              "      <td>tcp</td>\n",
              "      <td>http</td>\n",
              "      <td>SF</td>\n",
              "      <td>222</td>\n",
              "      <td>945</td>\n",
              "      <td>0</td>\n",
              "      <td>0</td>\n",
              "      <td>0</td>\n",
              "      <td>0</td>\n",
              "      <td>...</td>\n",
              "      <td>1.00</td>\n",
              "      <td>0.00</td>\n",
              "      <td>0.02</td>\n",
              "      <td>0.03</td>\n",
              "      <td>0.00</td>\n",
              "      <td>0.00</td>\n",
              "      <td>0.00</td>\n",
              "      <td>0.00</td>\n",
              "      <td>21</td>\n",
              "      <td>0</td>\n",
              "    </tr>\n",
              "    <tr>\n",
              "      <th>3</th>\n",
              "      <td>0</td>\n",
              "      <td>tcp</td>\n",
              "      <td>http</td>\n",
              "      <td>SF</td>\n",
              "      <td>235</td>\n",
              "      <td>1380</td>\n",
              "      <td>0</td>\n",
              "      <td>0</td>\n",
              "      <td>0</td>\n",
              "      <td>0</td>\n",
              "      <td>...</td>\n",
              "      <td>1.00</td>\n",
              "      <td>0.00</td>\n",
              "      <td>0.00</td>\n",
              "      <td>0.00</td>\n",
              "      <td>0.00</td>\n",
              "      <td>0.00</td>\n",
              "      <td>0.00</td>\n",
              "      <td>0.00</td>\n",
              "      <td>21</td>\n",
              "      <td>0</td>\n",
              "    </tr>\n",
              "    <tr>\n",
              "      <th>4</th>\n",
              "      <td>0</td>\n",
              "      <td>tcp</td>\n",
              "      <td>uucp_path</td>\n",
              "      <td>REJ</td>\n",
              "      <td>0</td>\n",
              "      <td>0</td>\n",
              "      <td>0</td>\n",
              "      <td>0</td>\n",
              "      <td>0</td>\n",
              "      <td>0</td>\n",
              "      <td>...</td>\n",
              "      <td>0.01</td>\n",
              "      <td>0.08</td>\n",
              "      <td>0.00</td>\n",
              "      <td>0.00</td>\n",
              "      <td>0.00</td>\n",
              "      <td>0.00</td>\n",
              "      <td>1.00</td>\n",
              "      <td>1.00</td>\n",
              "      <td>19</td>\n",
              "      <td>1</td>\n",
              "    </tr>\n",
              "    <tr>\n",
              "      <th>...</th>\n",
              "      <td>...</td>\n",
              "      <td>...</td>\n",
              "      <td>...</td>\n",
              "      <td>...</td>\n",
              "      <td>...</td>\n",
              "      <td>...</td>\n",
              "      <td>...</td>\n",
              "      <td>...</td>\n",
              "      <td>...</td>\n",
              "      <td>...</td>\n",
              "      <td>...</td>\n",
              "      <td>...</td>\n",
              "      <td>...</td>\n",
              "      <td>...</td>\n",
              "      <td>...</td>\n",
              "      <td>...</td>\n",
              "      <td>...</td>\n",
              "      <td>...</td>\n",
              "      <td>...</td>\n",
              "      <td>...</td>\n",
              "      <td>...</td>\n",
              "    </tr>\n",
              "    <tr>\n",
              "      <th>86840</th>\n",
              "      <td>0</td>\n",
              "      <td>tcp</td>\n",
              "      <td>http</td>\n",
              "      <td>SF</td>\n",
              "      <td>216</td>\n",
              "      <td>674</td>\n",
              "      <td>0</td>\n",
              "      <td>0</td>\n",
              "      <td>0</td>\n",
              "      <td>0</td>\n",
              "      <td>...</td>\n",
              "      <td>1.00</td>\n",
              "      <td>0.00</td>\n",
              "      <td>0.01</td>\n",
              "      <td>0.03</td>\n",
              "      <td>0.01</td>\n",
              "      <td>0.01</td>\n",
              "      <td>0.00</td>\n",
              "      <td>0.00</td>\n",
              "      <td>21</td>\n",
              "      <td>0</td>\n",
              "    </tr>\n",
              "    <tr>\n",
              "      <th>86841</th>\n",
              "      <td>0</td>\n",
              "      <td>tcp</td>\n",
              "      <td>http</td>\n",
              "      <td>SF</td>\n",
              "      <td>368</td>\n",
              "      <td>1725</td>\n",
              "      <td>0</td>\n",
              "      <td>0</td>\n",
              "      <td>0</td>\n",
              "      <td>0</td>\n",
              "      <td>...</td>\n",
              "      <td>1.00</td>\n",
              "      <td>0.00</td>\n",
              "      <td>0.03</td>\n",
              "      <td>0.05</td>\n",
              "      <td>0.00</td>\n",
              "      <td>0.00</td>\n",
              "      <td>0.13</td>\n",
              "      <td>0.06</td>\n",
              "      <td>20</td>\n",
              "      <td>0</td>\n",
              "    </tr>\n",
              "    <tr>\n",
              "      <th>86842</th>\n",
              "      <td>28</td>\n",
              "      <td>tcp</td>\n",
              "      <td>ftp</td>\n",
              "      <td>SF</td>\n",
              "      <td>1483</td>\n",
              "      <td>4152</td>\n",
              "      <td>0</td>\n",
              "      <td>0</td>\n",
              "      <td>0</td>\n",
              "      <td>30</td>\n",
              "      <td>...</td>\n",
              "      <td>0.28</td>\n",
              "      <td>0.04</td>\n",
              "      <td>0.01</td>\n",
              "      <td>0.00</td>\n",
              "      <td>0.00</td>\n",
              "      <td>0.00</td>\n",
              "      <td>0.00</td>\n",
              "      <td>0.00</td>\n",
              "      <td>20</td>\n",
              "      <td>0</td>\n",
              "    </tr>\n",
              "    <tr>\n",
              "      <th>86843</th>\n",
              "      <td>0</td>\n",
              "      <td>tcp</td>\n",
              "      <td>smtp</td>\n",
              "      <td>SF</td>\n",
              "      <td>1679</td>\n",
              "      <td>385</td>\n",
              "      <td>0</td>\n",
              "      <td>0</td>\n",
              "      <td>0</td>\n",
              "      <td>0</td>\n",
              "      <td>...</td>\n",
              "      <td>0.16</td>\n",
              "      <td>0.08</td>\n",
              "      <td>0.00</td>\n",
              "      <td>0.00</td>\n",
              "      <td>0.69</td>\n",
              "      <td>0.00</td>\n",
              "      <td>0.01</td>\n",
              "      <td>0.00</td>\n",
              "      <td>18</td>\n",
              "      <td>0</td>\n",
              "    </tr>\n",
              "    <tr>\n",
              "      <th>86844</th>\n",
              "      <td>11343</td>\n",
              "      <td>tcp</td>\n",
              "      <td>telnet</td>\n",
              "      <td>SF</td>\n",
              "      <td>3396</td>\n",
              "      <td>16694</td>\n",
              "      <td>0</td>\n",
              "      <td>0</td>\n",
              "      <td>0</td>\n",
              "      <td>0</td>\n",
              "      <td>...</td>\n",
              "      <td>0.18</td>\n",
              "      <td>0.02</td>\n",
              "      <td>0.00</td>\n",
              "      <td>0.00</td>\n",
              "      <td>0.23</td>\n",
              "      <td>0.33</td>\n",
              "      <td>0.00</td>\n",
              "      <td>0.00</td>\n",
              "      <td>18</td>\n",
              "      <td>0</td>\n",
              "    </tr>\n",
              "  </tbody>\n",
              "</table>\n",
              "<p>86845 rows × 43 columns</p>\n",
              "</div>"
            ],
            "text/plain": [
              "       duration protocoltype      service flag  srcbytes  dstbytes  land  \\\n",
              "0             0          tcp  netbios_dgm  REJ         0         0     0   \n",
              "1             0          tcp         smtp   SF      1239       400     0   \n",
              "2             0          tcp         http   SF       222       945     0   \n",
              "3             0          tcp         http   SF       235      1380     0   \n",
              "4             0          tcp    uucp_path  REJ         0         0     0   \n",
              "...         ...          ...          ...  ...       ...       ...   ...   \n",
              "86840         0          tcp         http   SF       216       674     0   \n",
              "86841         0          tcp         http   SF       368      1725     0   \n",
              "86842        28          tcp          ftp   SF      1483      4152     0   \n",
              "86843         0          tcp         smtp   SF      1679       385     0   \n",
              "86844     11343          tcp       telnet   SF      3396     16694     0   \n",
              "\n",
              "       wrongfragment  urgent  hot  ...  dsthostsamesrvrate  \\\n",
              "0                  0       0    0  ...                0.06   \n",
              "1                  0       0    0  ...                0.45   \n",
              "2                  0       0    0  ...                1.00   \n",
              "3                  0       0    0  ...                1.00   \n",
              "4                  0       0    0  ...                0.01   \n",
              "...              ...     ...  ...  ...                 ...   \n",
              "86840              0       0    0  ...                1.00   \n",
              "86841              0       0    0  ...                1.00   \n",
              "86842              0       0   30  ...                0.28   \n",
              "86843              0       0    0  ...                0.16   \n",
              "86844              0       0    0  ...                0.18   \n",
              "\n",
              "       dsthostdiffsrvrate  dsthostsamesrcportrate  dsthostsrvdiffhostrate  \\\n",
              "0                    0.06                    0.00                    0.00   \n",
              "1                    0.04                    0.00                    0.00   \n",
              "2                    0.00                    0.02                    0.03   \n",
              "3                    0.00                    0.00                    0.00   \n",
              "4                    0.08                    0.00                    0.00   \n",
              "...                   ...                     ...                     ...   \n",
              "86840                0.00                    0.01                    0.03   \n",
              "86841                0.00                    0.03                    0.05   \n",
              "86842                0.04                    0.01                    0.00   \n",
              "86843                0.08                    0.00                    0.00   \n",
              "86844                0.02                    0.00                    0.00   \n",
              "\n",
              "       dsthostserrorrate  dsthostsrvserrorrate  dsthostrerrorrate  \\\n",
              "0                   0.00                  0.00               1.00   \n",
              "1                   0.11                  0.00               0.02   \n",
              "2                   0.00                  0.00               0.00   \n",
              "3                   0.00                  0.00               0.00   \n",
              "4                   0.00                  0.00               1.00   \n",
              "...                  ...                   ...                ...   \n",
              "86840               0.01                  0.01               0.00   \n",
              "86841               0.00                  0.00               0.13   \n",
              "86842               0.00                  0.00               0.00   \n",
              "86843               0.69                  0.00               0.01   \n",
              "86844               0.23                  0.33               0.00   \n",
              "\n",
              "       dsthostsrvrerrorrate  lastflag  attack  \n",
              "0                      1.00        21       1  \n",
              "1                      0.00        18       0  \n",
              "2                      0.00        21       0  \n",
              "3                      0.00        21       0  \n",
              "4                      1.00        19       1  \n",
              "...                     ...       ...     ...  \n",
              "86840                  0.00        21       0  \n",
              "86841                  0.06        20       0  \n",
              "86842                  0.00        20       0  \n",
              "86843                  0.00        18       0  \n",
              "86844                  0.00        18       0  \n",
              "\n",
              "[86845 rows x 43 columns]"
            ]
          },
          "execution_count": 4,
          "metadata": {},
          "output_type": "execute_result"
        }
      ],
      "source": [
        "train_data"
      ]
    },
    {
      "cell_type": "code",
      "execution_count": null,
      "id": "ae10df00",
      "metadata": {
        "id": "ae10df00",
        "outputId": "5ef9c084-c456-4c42-f54f-1322337b96e9"
      },
      "outputs": [
        {
          "data": {
            "text/plain": [
              "duration                  0\n",
              "protocoltype              0\n",
              "service                   0\n",
              "flag                      0\n",
              "srcbytes                  0\n",
              "dstbytes                  0\n",
              "land                      0\n",
              "wrongfragment             0\n",
              "urgent                    0\n",
              "hot                       0\n",
              "numfailedlogins           0\n",
              "loggedin                  0\n",
              "numcompromised            0\n",
              "rootshell                 0\n",
              "suattempted               0\n",
              "numroot                   0\n",
              "numfilecreations          0\n",
              "numshells                 0\n",
              "numaccessfiles            0\n",
              "numoutboundcmds           0\n",
              "ishostlogin               0\n",
              "isguestlogin              0\n",
              "count                     0\n",
              "srvcount                  0\n",
              "serrorrate                0\n",
              "srvserrorrate             0\n",
              "rerrorrate                0\n",
              "srvrerrorrate             0\n",
              "samesrvrate               0\n",
              "diffsrvrate               0\n",
              "srvdiffhostrate           0\n",
              "dsthostcount              0\n",
              "dsthostsrvcount           0\n",
              "dsthostsamesrvrate        0\n",
              "dsthostdiffsrvrate        0\n",
              "dsthostsamesrcportrate    0\n",
              "dsthostsrvdiffhostrate    0\n",
              "dsthostserrorrate         0\n",
              "dsthostsrvserrorrate      0\n",
              "dsthostrerrorrate         0\n",
              "dsthostsrvrerrorrate      0\n",
              "lastflag                  0\n",
              "attack                    0\n",
              "dtype: int64"
            ]
          },
          "execution_count": 5,
          "metadata": {},
          "output_type": "execute_result"
        }
      ],
      "source": [
        "train_data.isnull().sum()"
      ]
    },
    {
      "cell_type": "code",
      "execution_count": null,
      "id": "0f177290",
      "metadata": {
        "id": "0f177290",
        "outputId": "c875322f-3989-4bab-df88-766a0d08842f"
      },
      "outputs": [
        {
          "data": {
            "text/plain": [
              "duration                    int64\n",
              "protocoltype               object\n",
              "service                    object\n",
              "flag                       object\n",
              "srcbytes                    int64\n",
              "dstbytes                    int64\n",
              "land                        int64\n",
              "wrongfragment               int64\n",
              "urgent                      int64\n",
              "hot                         int64\n",
              "numfailedlogins             int64\n",
              "loggedin                    int64\n",
              "numcompromised              int64\n",
              "rootshell                   int64\n",
              "suattempted                 int64\n",
              "numroot                     int64\n",
              "numfilecreations            int64\n",
              "numshells                   int64\n",
              "numaccessfiles              int64\n",
              "numoutboundcmds             int64\n",
              "ishostlogin                 int64\n",
              "isguestlogin                int64\n",
              "count                       int64\n",
              "srvcount                    int64\n",
              "serrorrate                float64\n",
              "srvserrorrate             float64\n",
              "rerrorrate                float64\n",
              "srvrerrorrate             float64\n",
              "samesrvrate               float64\n",
              "diffsrvrate               float64\n",
              "srvdiffhostrate           float64\n",
              "dsthostcount                int64\n",
              "dsthostsrvcount             int64\n",
              "dsthostsamesrvrate        float64\n",
              "dsthostdiffsrvrate        float64\n",
              "dsthostsamesrcportrate    float64\n",
              "dsthostsrvdiffhostrate    float64\n",
              "dsthostserrorrate         float64\n",
              "dsthostsrvserrorrate      float64\n",
              "dsthostrerrorrate         float64\n",
              "dsthostsrvrerrorrate      float64\n",
              "lastflag                    int64\n",
              "attack                      int64\n",
              "dtype: object"
            ]
          },
          "execution_count": 6,
          "metadata": {},
          "output_type": "execute_result"
        }
      ],
      "source": [
        "train_data.dtypes"
      ]
    },
    {
      "cell_type": "code",
      "execution_count": null,
      "id": "41756eae",
      "metadata": {
        "id": "41756eae"
      },
      "outputs": [],
      "source": [
        "from sklearn.preprocessing import OneHotEncoder\n",
        "onehotencoder=OneHotEncoder()\n",
        "object_cols=[]"
      ]
    },
    {
      "cell_type": "code",
      "execution_count": null,
      "id": "1ff3579c",
      "metadata": {
        "id": "1ff3579c"
      },
      "outputs": [],
      "source": [
        "for cols in train_data.columns:\n",
        "    if train_data[cols].dtype=='object':\n",
        "        object_cols.append(cols)\n",
        ""
      ]
    },
    {
      "cell_type": "code",
      "execution_count": null,
      "id": "91852ddd",
      "metadata": {
        "id": "91852ddd",
        "outputId": "d483c87e-f19d-4f50-b804-682c8e4424ec"
      },
      "outputs": [
        {
          "data": {
            "text/plain": [
              "['protocoltype', 'service', 'flag']"
            ]
          },
          "execution_count": 9,
          "metadata": {},
          "output_type": "execute_result"
        }
      ],
      "source": [
        "object_cols"
      ]
    },
    {
      "cell_type": "code",
      "execution_count": null,
      "id": "8ba1eafb",
      "metadata": {
        "id": "8ba1eafb"
      },
      "outputs": [],
      "source": [
        "object_cols.remove('flag')"
      ]
    },
    {
      "cell_type": "code",
      "execution_count": null,
      "id": "93f2a397",
      "metadata": {
        "id": "93f2a397"
      },
      "outputs": [],
      "source": [
        "object_cols.remove('service')"
      ]
    },
    {
      "cell_type": "code",
      "execution_count": null,
      "id": "e69dfa10",
      "metadata": {
        "id": "e69dfa10"
      },
      "outputs": [],
      "source": [
        "categorical_data=pd.get_dummies(train_data[object_cols])\n"
      ]
    },
    {
      "cell_type": "code",
      "execution_count": null,
      "id": "bbe2e982",
      "metadata": {
        "id": "bbe2e982"
      },
      "outputs": [],
      "source": [
        "categorical_data=categorical_data.replace({True:1,False:0})"
      ]
    },
    {
      "cell_type": "code",
      "execution_count": null,
      "id": "8b02a50a",
      "metadata": {
        "id": "8b02a50a",
        "outputId": "fdad1ca2-2771-447b-c027-f267d89d4d49"
      },
      "outputs": [
        {
          "data": {
            "text/html": [
              "<div>\n",
              "<style scoped>\n",
              "    .dataframe tbody tr th:only-of-type {\n",
              "        vertical-align: middle;\n",
              "    }\n",
              "\n",
              "    .dataframe tbody tr th {\n",
              "        vertical-align: top;\n",
              "    }\n",
              "\n",
              "    .dataframe thead th {\n",
              "        text-align: right;\n",
              "    }\n",
              "</style>\n",
              "<table border=\"1\" class=\"dataframe\">\n",
              "  <thead>\n",
              "    <tr style=\"text-align: right;\">\n",
              "      <th></th>\n",
              "      <th>protocoltype_icmp</th>\n",
              "      <th>protocoltype_tcp</th>\n",
              "      <th>protocoltype_udp</th>\n",
              "    </tr>\n",
              "  </thead>\n",
              "  <tbody>\n",
              "    <tr>\n",
              "      <th>0</th>\n",
              "      <td>0</td>\n",
              "      <td>1</td>\n",
              "      <td>0</td>\n",
              "    </tr>\n",
              "    <tr>\n",
              "      <th>1</th>\n",
              "      <td>0</td>\n",
              "      <td>1</td>\n",
              "      <td>0</td>\n",
              "    </tr>\n",
              "    <tr>\n",
              "      <th>2</th>\n",
              "      <td>0</td>\n",
              "      <td>1</td>\n",
              "      <td>0</td>\n",
              "    </tr>\n",
              "    <tr>\n",
              "      <th>3</th>\n",
              "      <td>0</td>\n",
              "      <td>1</td>\n",
              "      <td>0</td>\n",
              "    </tr>\n",
              "    <tr>\n",
              "      <th>4</th>\n",
              "      <td>0</td>\n",
              "      <td>1</td>\n",
              "      <td>0</td>\n",
              "    </tr>\n",
              "    <tr>\n",
              "      <th>...</th>\n",
              "      <td>...</td>\n",
              "      <td>...</td>\n",
              "      <td>...</td>\n",
              "    </tr>\n",
              "    <tr>\n",
              "      <th>86840</th>\n",
              "      <td>0</td>\n",
              "      <td>1</td>\n",
              "      <td>0</td>\n",
              "    </tr>\n",
              "    <tr>\n",
              "      <th>86841</th>\n",
              "      <td>0</td>\n",
              "      <td>1</td>\n",
              "      <td>0</td>\n",
              "    </tr>\n",
              "    <tr>\n",
              "      <th>86842</th>\n",
              "      <td>0</td>\n",
              "      <td>1</td>\n",
              "      <td>0</td>\n",
              "    </tr>\n",
              "    <tr>\n",
              "      <th>86843</th>\n",
              "      <td>0</td>\n",
              "      <td>1</td>\n",
              "      <td>0</td>\n",
              "    </tr>\n",
              "    <tr>\n",
              "      <th>86844</th>\n",
              "      <td>0</td>\n",
              "      <td>1</td>\n",
              "      <td>0</td>\n",
              "    </tr>\n",
              "  </tbody>\n",
              "</table>\n",
              "<p>86845 rows × 3 columns</p>\n",
              "</div>"
            ],
            "text/plain": [
              "       protocoltype_icmp  protocoltype_tcp  protocoltype_udp\n",
              "0                      0                 1                 0\n",
              "1                      0                 1                 0\n",
              "2                      0                 1                 0\n",
              "3                      0                 1                 0\n",
              "4                      0                 1                 0\n",
              "...                  ...               ...               ...\n",
              "86840                  0                 1                 0\n",
              "86841                  0                 1                 0\n",
              "86842                  0                 1                 0\n",
              "86843                  0                 1                 0\n",
              "86844                  0                 1                 0\n",
              "\n",
              "[86845 rows x 3 columns]"
            ]
          },
          "execution_count": 14,
          "metadata": {},
          "output_type": "execute_result"
        }
      ],
      "source": [
        "categorical_data"
      ]
    },
    {
      "cell_type": "code",
      "execution_count": null,
      "id": "3c696a13",
      "metadata": {
        "id": "3c696a13",
        "outputId": "69abf0c8-5e27-4f87-954a-b9f220647191"
      },
      "outputs": [
        {
          "data": {
            "text/html": [
              "<div>\n",
              "<style scoped>\n",
              "    .dataframe tbody tr th:only-of-type {\n",
              "        vertical-align: middle;\n",
              "    }\n",
              "\n",
              "    .dataframe tbody tr th {\n",
              "        vertical-align: top;\n",
              "    }\n",
              "\n",
              "    .dataframe thead th {\n",
              "        text-align: right;\n",
              "    }\n",
              "</style>\n",
              "<table border=\"1\" class=\"dataframe\">\n",
              "  <thead>\n",
              "    <tr style=\"text-align: right;\">\n",
              "      <th></th>\n",
              "      <th>duration</th>\n",
              "      <th>protocoltype</th>\n",
              "      <th>service</th>\n",
              "      <th>flag</th>\n",
              "      <th>srcbytes</th>\n",
              "      <th>dstbytes</th>\n",
              "      <th>land</th>\n",
              "      <th>wrongfragment</th>\n",
              "      <th>urgent</th>\n",
              "      <th>hot</th>\n",
              "      <th>...</th>\n",
              "      <th>dsthostsamesrvrate</th>\n",
              "      <th>dsthostdiffsrvrate</th>\n",
              "      <th>dsthostsamesrcportrate</th>\n",
              "      <th>dsthostsrvdiffhostrate</th>\n",
              "      <th>dsthostserrorrate</th>\n",
              "      <th>dsthostsrvserrorrate</th>\n",
              "      <th>dsthostrerrorrate</th>\n",
              "      <th>dsthostsrvrerrorrate</th>\n",
              "      <th>lastflag</th>\n",
              "      <th>attack</th>\n",
              "    </tr>\n",
              "  </thead>\n",
              "  <tbody>\n",
              "    <tr>\n",
              "      <th>0</th>\n",
              "      <td>0</td>\n",
              "      <td>tcp</td>\n",
              "      <td>netbios_dgm</td>\n",
              "      <td>REJ</td>\n",
              "      <td>0</td>\n",
              "      <td>0</td>\n",
              "      <td>0</td>\n",
              "      <td>0</td>\n",
              "      <td>0</td>\n",
              "      <td>0</td>\n",
              "      <td>...</td>\n",
              "      <td>0.06</td>\n",
              "      <td>0.06</td>\n",
              "      <td>0.00</td>\n",
              "      <td>0.00</td>\n",
              "      <td>0.00</td>\n",
              "      <td>0.00</td>\n",
              "      <td>1.00</td>\n",
              "      <td>1.00</td>\n",
              "      <td>21</td>\n",
              "      <td>1</td>\n",
              "    </tr>\n",
              "    <tr>\n",
              "      <th>1</th>\n",
              "      <td>0</td>\n",
              "      <td>tcp</td>\n",
              "      <td>smtp</td>\n",
              "      <td>SF</td>\n",
              "      <td>1239</td>\n",
              "      <td>400</td>\n",
              "      <td>0</td>\n",
              "      <td>0</td>\n",
              "      <td>0</td>\n",
              "      <td>0</td>\n",
              "      <td>...</td>\n",
              "      <td>0.45</td>\n",
              "      <td>0.04</td>\n",
              "      <td>0.00</td>\n",
              "      <td>0.00</td>\n",
              "      <td>0.11</td>\n",
              "      <td>0.00</td>\n",
              "      <td>0.02</td>\n",
              "      <td>0.00</td>\n",
              "      <td>18</td>\n",
              "      <td>0</td>\n",
              "    </tr>\n",
              "    <tr>\n",
              "      <th>2</th>\n",
              "      <td>0</td>\n",
              "      <td>tcp</td>\n",
              "      <td>http</td>\n",
              "      <td>SF</td>\n",
              "      <td>222</td>\n",
              "      <td>945</td>\n",
              "      <td>0</td>\n",
              "      <td>0</td>\n",
              "      <td>0</td>\n",
              "      <td>0</td>\n",
              "      <td>...</td>\n",
              "      <td>1.00</td>\n",
              "      <td>0.00</td>\n",
              "      <td>0.02</td>\n",
              "      <td>0.03</td>\n",
              "      <td>0.00</td>\n",
              "      <td>0.00</td>\n",
              "      <td>0.00</td>\n",
              "      <td>0.00</td>\n",
              "      <td>21</td>\n",
              "      <td>0</td>\n",
              "    </tr>\n",
              "    <tr>\n",
              "      <th>3</th>\n",
              "      <td>0</td>\n",
              "      <td>tcp</td>\n",
              "      <td>http</td>\n",
              "      <td>SF</td>\n",
              "      <td>235</td>\n",
              "      <td>1380</td>\n",
              "      <td>0</td>\n",
              "      <td>0</td>\n",
              "      <td>0</td>\n",
              "      <td>0</td>\n",
              "      <td>...</td>\n",
              "      <td>1.00</td>\n",
              "      <td>0.00</td>\n",
              "      <td>0.00</td>\n",
              "      <td>0.00</td>\n",
              "      <td>0.00</td>\n",
              "      <td>0.00</td>\n",
              "      <td>0.00</td>\n",
              "      <td>0.00</td>\n",
              "      <td>21</td>\n",
              "      <td>0</td>\n",
              "    </tr>\n",
              "    <tr>\n",
              "      <th>4</th>\n",
              "      <td>0</td>\n",
              "      <td>tcp</td>\n",
              "      <td>uucp_path</td>\n",
              "      <td>REJ</td>\n",
              "      <td>0</td>\n",
              "      <td>0</td>\n",
              "      <td>0</td>\n",
              "      <td>0</td>\n",
              "      <td>0</td>\n",
              "      <td>0</td>\n",
              "      <td>...</td>\n",
              "      <td>0.01</td>\n",
              "      <td>0.08</td>\n",
              "      <td>0.00</td>\n",
              "      <td>0.00</td>\n",
              "      <td>0.00</td>\n",
              "      <td>0.00</td>\n",
              "      <td>1.00</td>\n",
              "      <td>1.00</td>\n",
              "      <td>19</td>\n",
              "      <td>1</td>\n",
              "    </tr>\n",
              "    <tr>\n",
              "      <th>...</th>\n",
              "      <td>...</td>\n",
              "      <td>...</td>\n",
              "      <td>...</td>\n",
              "      <td>...</td>\n",
              "      <td>...</td>\n",
              "      <td>...</td>\n",
              "      <td>...</td>\n",
              "      <td>...</td>\n",
              "      <td>...</td>\n",
              "      <td>...</td>\n",
              "      <td>...</td>\n",
              "      <td>...</td>\n",
              "      <td>...</td>\n",
              "      <td>...</td>\n",
              "      <td>...</td>\n",
              "      <td>...</td>\n",
              "      <td>...</td>\n",
              "      <td>...</td>\n",
              "      <td>...</td>\n",
              "      <td>...</td>\n",
              "      <td>...</td>\n",
              "    </tr>\n",
              "    <tr>\n",
              "      <th>86840</th>\n",
              "      <td>0</td>\n",
              "      <td>tcp</td>\n",
              "      <td>http</td>\n",
              "      <td>SF</td>\n",
              "      <td>216</td>\n",
              "      <td>674</td>\n",
              "      <td>0</td>\n",
              "      <td>0</td>\n",
              "      <td>0</td>\n",
              "      <td>0</td>\n",
              "      <td>...</td>\n",
              "      <td>1.00</td>\n",
              "      <td>0.00</td>\n",
              "      <td>0.01</td>\n",
              "      <td>0.03</td>\n",
              "      <td>0.01</td>\n",
              "      <td>0.01</td>\n",
              "      <td>0.00</td>\n",
              "      <td>0.00</td>\n",
              "      <td>21</td>\n",
              "      <td>0</td>\n",
              "    </tr>\n",
              "    <tr>\n",
              "      <th>86841</th>\n",
              "      <td>0</td>\n",
              "      <td>tcp</td>\n",
              "      <td>http</td>\n",
              "      <td>SF</td>\n",
              "      <td>368</td>\n",
              "      <td>1725</td>\n",
              "      <td>0</td>\n",
              "      <td>0</td>\n",
              "      <td>0</td>\n",
              "      <td>0</td>\n",
              "      <td>...</td>\n",
              "      <td>1.00</td>\n",
              "      <td>0.00</td>\n",
              "      <td>0.03</td>\n",
              "      <td>0.05</td>\n",
              "      <td>0.00</td>\n",
              "      <td>0.00</td>\n",
              "      <td>0.13</td>\n",
              "      <td>0.06</td>\n",
              "      <td>20</td>\n",
              "      <td>0</td>\n",
              "    </tr>\n",
              "    <tr>\n",
              "      <th>86842</th>\n",
              "      <td>28</td>\n",
              "      <td>tcp</td>\n",
              "      <td>ftp</td>\n",
              "      <td>SF</td>\n",
              "      <td>1483</td>\n",
              "      <td>4152</td>\n",
              "      <td>0</td>\n",
              "      <td>0</td>\n",
              "      <td>0</td>\n",
              "      <td>30</td>\n",
              "      <td>...</td>\n",
              "      <td>0.28</td>\n",
              "      <td>0.04</td>\n",
              "      <td>0.01</td>\n",
              "      <td>0.00</td>\n",
              "      <td>0.00</td>\n",
              "      <td>0.00</td>\n",
              "      <td>0.00</td>\n",
              "      <td>0.00</td>\n",
              "      <td>20</td>\n",
              "      <td>0</td>\n",
              "    </tr>\n",
              "    <tr>\n",
              "      <th>86843</th>\n",
              "      <td>0</td>\n",
              "      <td>tcp</td>\n",
              "      <td>smtp</td>\n",
              "      <td>SF</td>\n",
              "      <td>1679</td>\n",
              "      <td>385</td>\n",
              "      <td>0</td>\n",
              "      <td>0</td>\n",
              "      <td>0</td>\n",
              "      <td>0</td>\n",
              "      <td>...</td>\n",
              "      <td>0.16</td>\n",
              "      <td>0.08</td>\n",
              "      <td>0.00</td>\n",
              "      <td>0.00</td>\n",
              "      <td>0.69</td>\n",
              "      <td>0.00</td>\n",
              "      <td>0.01</td>\n",
              "      <td>0.00</td>\n",
              "      <td>18</td>\n",
              "      <td>0</td>\n",
              "    </tr>\n",
              "    <tr>\n",
              "      <th>86844</th>\n",
              "      <td>11343</td>\n",
              "      <td>tcp</td>\n",
              "      <td>telnet</td>\n",
              "      <td>SF</td>\n",
              "      <td>3396</td>\n",
              "      <td>16694</td>\n",
              "      <td>0</td>\n",
              "      <td>0</td>\n",
              "      <td>0</td>\n",
              "      <td>0</td>\n",
              "      <td>...</td>\n",
              "      <td>0.18</td>\n",
              "      <td>0.02</td>\n",
              "      <td>0.00</td>\n",
              "      <td>0.00</td>\n",
              "      <td>0.23</td>\n",
              "      <td>0.33</td>\n",
              "      <td>0.00</td>\n",
              "      <td>0.00</td>\n",
              "      <td>18</td>\n",
              "      <td>0</td>\n",
              "    </tr>\n",
              "  </tbody>\n",
              "</table>\n",
              "<p>86845 rows × 43 columns</p>\n",
              "</div>"
            ],
            "text/plain": [
              "       duration protocoltype      service flag  srcbytes  dstbytes  land  \\\n",
              "0             0          tcp  netbios_dgm  REJ         0         0     0   \n",
              "1             0          tcp         smtp   SF      1239       400     0   \n",
              "2             0          tcp         http   SF       222       945     0   \n",
              "3             0          tcp         http   SF       235      1380     0   \n",
              "4             0          tcp    uucp_path  REJ         0         0     0   \n",
              "...         ...          ...          ...  ...       ...       ...   ...   \n",
              "86840         0          tcp         http   SF       216       674     0   \n",
              "86841         0          tcp         http   SF       368      1725     0   \n",
              "86842        28          tcp          ftp   SF      1483      4152     0   \n",
              "86843         0          tcp         smtp   SF      1679       385     0   \n",
              "86844     11343          tcp       telnet   SF      3396     16694     0   \n",
              "\n",
              "       wrongfragment  urgent  hot  ...  dsthostsamesrvrate  \\\n",
              "0                  0       0    0  ...                0.06   \n",
              "1                  0       0    0  ...                0.45   \n",
              "2                  0       0    0  ...                1.00   \n",
              "3                  0       0    0  ...                1.00   \n",
              "4                  0       0    0  ...                0.01   \n",
              "...              ...     ...  ...  ...                 ...   \n",
              "86840              0       0    0  ...                1.00   \n",
              "86841              0       0    0  ...                1.00   \n",
              "86842              0       0   30  ...                0.28   \n",
              "86843              0       0    0  ...                0.16   \n",
              "86844              0       0    0  ...                0.18   \n",
              "\n",
              "       dsthostdiffsrvrate  dsthostsamesrcportrate  dsthostsrvdiffhostrate  \\\n",
              "0                    0.06                    0.00                    0.00   \n",
              "1                    0.04                    0.00                    0.00   \n",
              "2                    0.00                    0.02                    0.03   \n",
              "3                    0.00                    0.00                    0.00   \n",
              "4                    0.08                    0.00                    0.00   \n",
              "...                   ...                     ...                     ...   \n",
              "86840                0.00                    0.01                    0.03   \n",
              "86841                0.00                    0.03                    0.05   \n",
              "86842                0.04                    0.01                    0.00   \n",
              "86843                0.08                    0.00                    0.00   \n",
              "86844                0.02                    0.00                    0.00   \n",
              "\n",
              "       dsthostserrorrate  dsthostsrvserrorrate  dsthostrerrorrate  \\\n",
              "0                   0.00                  0.00               1.00   \n",
              "1                   0.11                  0.00               0.02   \n",
              "2                   0.00                  0.00               0.00   \n",
              "3                   0.00                  0.00               0.00   \n",
              "4                   0.00                  0.00               1.00   \n",
              "...                  ...                   ...                ...   \n",
              "86840               0.01                  0.01               0.00   \n",
              "86841               0.00                  0.00               0.13   \n",
              "86842               0.00                  0.00               0.00   \n",
              "86843               0.69                  0.00               0.01   \n",
              "86844               0.23                  0.33               0.00   \n",
              "\n",
              "       dsthostsrvrerrorrate  lastflag  attack  \n",
              "0                      1.00        21       1  \n",
              "1                      0.00        18       0  \n",
              "2                      0.00        21       0  \n",
              "3                      0.00        21       0  \n",
              "4                      1.00        19       1  \n",
              "...                     ...       ...     ...  \n",
              "86840                  0.00        21       0  \n",
              "86841                  0.06        20       0  \n",
              "86842                  0.00        20       0  \n",
              "86843                  0.00        18       0  \n",
              "86844                  0.00        18       0  \n",
              "\n",
              "[86845 rows x 43 columns]"
            ]
          },
          "execution_count": 15,
          "metadata": {},
          "output_type": "execute_result"
        }
      ],
      "source": [
        "train_data"
      ]
    },
    {
      "cell_type": "code",
      "execution_count": null,
      "id": "54787f9c",
      "metadata": {
        "id": "54787f9c"
      },
      "outputs": [],
      "source": [
        "y=train_data['attack']"
      ]
    },
    {
      "cell_type": "code",
      "execution_count": null,
      "id": "71516f4e",
      "metadata": {
        "id": "71516f4e"
      },
      "outputs": [],
      "source": [
        "# execute only once\n",
        "train_data.drop(['attack'],axis=1,inplace=True)"
      ]
    },
    {
      "cell_type": "code",
      "execution_count": null,
      "id": "8b0ff730",
      "metadata": {
        "id": "8b0ff730"
      },
      "outputs": [],
      "source": [
        "train_data=train_data.join(categorical_data)"
      ]
    },
    {
      "cell_type": "code",
      "execution_count": null,
      "id": "3250fdec",
      "metadata": {
        "id": "3250fdec"
      },
      "outputs": [],
      "source": [
        "X=train_data"
      ]
    },
    {
      "cell_type": "code",
      "execution_count": null,
      "id": "b0216782",
      "metadata": {
        "id": "b0216782",
        "outputId": "ef9b8d89-8b8f-47bf-ac7a-16ea4ae00904"
      },
      "outputs": [
        {
          "data": {
            "text/html": [
              "<div>\n",
              "<style scoped>\n",
              "    .dataframe tbody tr th:only-of-type {\n",
              "        vertical-align: middle;\n",
              "    }\n",
              "\n",
              "    .dataframe tbody tr th {\n",
              "        vertical-align: top;\n",
              "    }\n",
              "\n",
              "    .dataframe thead th {\n",
              "        text-align: right;\n",
              "    }\n",
              "</style>\n",
              "<table border=\"1\" class=\"dataframe\">\n",
              "  <thead>\n",
              "    <tr style=\"text-align: right;\">\n",
              "      <th></th>\n",
              "      <th>duration</th>\n",
              "      <th>protocoltype</th>\n",
              "      <th>service</th>\n",
              "      <th>flag</th>\n",
              "      <th>srcbytes</th>\n",
              "      <th>dstbytes</th>\n",
              "      <th>land</th>\n",
              "      <th>wrongfragment</th>\n",
              "      <th>urgent</th>\n",
              "      <th>hot</th>\n",
              "      <th>...</th>\n",
              "      <th>dsthostsamesrcportrate</th>\n",
              "      <th>dsthostsrvdiffhostrate</th>\n",
              "      <th>dsthostserrorrate</th>\n",
              "      <th>dsthostsrvserrorrate</th>\n",
              "      <th>dsthostrerrorrate</th>\n",
              "      <th>dsthostsrvrerrorrate</th>\n",
              "      <th>lastflag</th>\n",
              "      <th>protocoltype_icmp</th>\n",
              "      <th>protocoltype_tcp</th>\n",
              "      <th>protocoltype_udp</th>\n",
              "    </tr>\n",
              "  </thead>\n",
              "  <tbody>\n",
              "    <tr>\n",
              "      <th>0</th>\n",
              "      <td>0</td>\n",
              "      <td>tcp</td>\n",
              "      <td>netbios_dgm</td>\n",
              "      <td>REJ</td>\n",
              "      <td>0</td>\n",
              "      <td>0</td>\n",
              "      <td>0</td>\n",
              "      <td>0</td>\n",
              "      <td>0</td>\n",
              "      <td>0</td>\n",
              "      <td>...</td>\n",
              "      <td>0.00</td>\n",
              "      <td>0.00</td>\n",
              "      <td>0.00</td>\n",
              "      <td>0.00</td>\n",
              "      <td>1.00</td>\n",
              "      <td>1.00</td>\n",
              "      <td>21</td>\n",
              "      <td>0</td>\n",
              "      <td>1</td>\n",
              "      <td>0</td>\n",
              "    </tr>\n",
              "    <tr>\n",
              "      <th>1</th>\n",
              "      <td>0</td>\n",
              "      <td>tcp</td>\n",
              "      <td>smtp</td>\n",
              "      <td>SF</td>\n",
              "      <td>1239</td>\n",
              "      <td>400</td>\n",
              "      <td>0</td>\n",
              "      <td>0</td>\n",
              "      <td>0</td>\n",
              "      <td>0</td>\n",
              "      <td>...</td>\n",
              "      <td>0.00</td>\n",
              "      <td>0.00</td>\n",
              "      <td>0.11</td>\n",
              "      <td>0.00</td>\n",
              "      <td>0.02</td>\n",
              "      <td>0.00</td>\n",
              "      <td>18</td>\n",
              "      <td>0</td>\n",
              "      <td>1</td>\n",
              "      <td>0</td>\n",
              "    </tr>\n",
              "    <tr>\n",
              "      <th>2</th>\n",
              "      <td>0</td>\n",
              "      <td>tcp</td>\n",
              "      <td>http</td>\n",
              "      <td>SF</td>\n",
              "      <td>222</td>\n",
              "      <td>945</td>\n",
              "      <td>0</td>\n",
              "      <td>0</td>\n",
              "      <td>0</td>\n",
              "      <td>0</td>\n",
              "      <td>...</td>\n",
              "      <td>0.02</td>\n",
              "      <td>0.03</td>\n",
              "      <td>0.00</td>\n",
              "      <td>0.00</td>\n",
              "      <td>0.00</td>\n",
              "      <td>0.00</td>\n",
              "      <td>21</td>\n",
              "      <td>0</td>\n",
              "      <td>1</td>\n",
              "      <td>0</td>\n",
              "    </tr>\n",
              "    <tr>\n",
              "      <th>3</th>\n",
              "      <td>0</td>\n",
              "      <td>tcp</td>\n",
              "      <td>http</td>\n",
              "      <td>SF</td>\n",
              "      <td>235</td>\n",
              "      <td>1380</td>\n",
              "      <td>0</td>\n",
              "      <td>0</td>\n",
              "      <td>0</td>\n",
              "      <td>0</td>\n",
              "      <td>...</td>\n",
              "      <td>0.00</td>\n",
              "      <td>0.00</td>\n",
              "      <td>0.00</td>\n",
              "      <td>0.00</td>\n",
              "      <td>0.00</td>\n",
              "      <td>0.00</td>\n",
              "      <td>21</td>\n",
              "      <td>0</td>\n",
              "      <td>1</td>\n",
              "      <td>0</td>\n",
              "    </tr>\n",
              "    <tr>\n",
              "      <th>4</th>\n",
              "      <td>0</td>\n",
              "      <td>tcp</td>\n",
              "      <td>uucp_path</td>\n",
              "      <td>REJ</td>\n",
              "      <td>0</td>\n",
              "      <td>0</td>\n",
              "      <td>0</td>\n",
              "      <td>0</td>\n",
              "      <td>0</td>\n",
              "      <td>0</td>\n",
              "      <td>...</td>\n",
              "      <td>0.00</td>\n",
              "      <td>0.00</td>\n",
              "      <td>0.00</td>\n",
              "      <td>0.00</td>\n",
              "      <td>1.00</td>\n",
              "      <td>1.00</td>\n",
              "      <td>19</td>\n",
              "      <td>0</td>\n",
              "      <td>1</td>\n",
              "      <td>0</td>\n",
              "    </tr>\n",
              "    <tr>\n",
              "      <th>...</th>\n",
              "      <td>...</td>\n",
              "      <td>...</td>\n",
              "      <td>...</td>\n",
              "      <td>...</td>\n",
              "      <td>...</td>\n",
              "      <td>...</td>\n",
              "      <td>...</td>\n",
              "      <td>...</td>\n",
              "      <td>...</td>\n",
              "      <td>...</td>\n",
              "      <td>...</td>\n",
              "      <td>...</td>\n",
              "      <td>...</td>\n",
              "      <td>...</td>\n",
              "      <td>...</td>\n",
              "      <td>...</td>\n",
              "      <td>...</td>\n",
              "      <td>...</td>\n",
              "      <td>...</td>\n",
              "      <td>...</td>\n",
              "      <td>...</td>\n",
              "    </tr>\n",
              "    <tr>\n",
              "      <th>86840</th>\n",
              "      <td>0</td>\n",
              "      <td>tcp</td>\n",
              "      <td>http</td>\n",
              "      <td>SF</td>\n",
              "      <td>216</td>\n",
              "      <td>674</td>\n",
              "      <td>0</td>\n",
              "      <td>0</td>\n",
              "      <td>0</td>\n",
              "      <td>0</td>\n",
              "      <td>...</td>\n",
              "      <td>0.01</td>\n",
              "      <td>0.03</td>\n",
              "      <td>0.01</td>\n",
              "      <td>0.01</td>\n",
              "      <td>0.00</td>\n",
              "      <td>0.00</td>\n",
              "      <td>21</td>\n",
              "      <td>0</td>\n",
              "      <td>1</td>\n",
              "      <td>0</td>\n",
              "    </tr>\n",
              "    <tr>\n",
              "      <th>86841</th>\n",
              "      <td>0</td>\n",
              "      <td>tcp</td>\n",
              "      <td>http</td>\n",
              "      <td>SF</td>\n",
              "      <td>368</td>\n",
              "      <td>1725</td>\n",
              "      <td>0</td>\n",
              "      <td>0</td>\n",
              "      <td>0</td>\n",
              "      <td>0</td>\n",
              "      <td>...</td>\n",
              "      <td>0.03</td>\n",
              "      <td>0.05</td>\n",
              "      <td>0.00</td>\n",
              "      <td>0.00</td>\n",
              "      <td>0.13</td>\n",
              "      <td>0.06</td>\n",
              "      <td>20</td>\n",
              "      <td>0</td>\n",
              "      <td>1</td>\n",
              "      <td>0</td>\n",
              "    </tr>\n",
              "    <tr>\n",
              "      <th>86842</th>\n",
              "      <td>28</td>\n",
              "      <td>tcp</td>\n",
              "      <td>ftp</td>\n",
              "      <td>SF</td>\n",
              "      <td>1483</td>\n",
              "      <td>4152</td>\n",
              "      <td>0</td>\n",
              "      <td>0</td>\n",
              "      <td>0</td>\n",
              "      <td>30</td>\n",
              "      <td>...</td>\n",
              "      <td>0.01</td>\n",
              "      <td>0.00</td>\n",
              "      <td>0.00</td>\n",
              "      <td>0.00</td>\n",
              "      <td>0.00</td>\n",
              "      <td>0.00</td>\n",
              "      <td>20</td>\n",
              "      <td>0</td>\n",
              "      <td>1</td>\n",
              "      <td>0</td>\n",
              "    </tr>\n",
              "    <tr>\n",
              "      <th>86843</th>\n",
              "      <td>0</td>\n",
              "      <td>tcp</td>\n",
              "      <td>smtp</td>\n",
              "      <td>SF</td>\n",
              "      <td>1679</td>\n",
              "      <td>385</td>\n",
              "      <td>0</td>\n",
              "      <td>0</td>\n",
              "      <td>0</td>\n",
              "      <td>0</td>\n",
              "      <td>...</td>\n",
              "      <td>0.00</td>\n",
              "      <td>0.00</td>\n",
              "      <td>0.69</td>\n",
              "      <td>0.00</td>\n",
              "      <td>0.01</td>\n",
              "      <td>0.00</td>\n",
              "      <td>18</td>\n",
              "      <td>0</td>\n",
              "      <td>1</td>\n",
              "      <td>0</td>\n",
              "    </tr>\n",
              "    <tr>\n",
              "      <th>86844</th>\n",
              "      <td>11343</td>\n",
              "      <td>tcp</td>\n",
              "      <td>telnet</td>\n",
              "      <td>SF</td>\n",
              "      <td>3396</td>\n",
              "      <td>16694</td>\n",
              "      <td>0</td>\n",
              "      <td>0</td>\n",
              "      <td>0</td>\n",
              "      <td>0</td>\n",
              "      <td>...</td>\n",
              "      <td>0.00</td>\n",
              "      <td>0.00</td>\n",
              "      <td>0.23</td>\n",
              "      <td>0.33</td>\n",
              "      <td>0.00</td>\n",
              "      <td>0.00</td>\n",
              "      <td>18</td>\n",
              "      <td>0</td>\n",
              "      <td>1</td>\n",
              "      <td>0</td>\n",
              "    </tr>\n",
              "  </tbody>\n",
              "</table>\n",
              "<p>86845 rows × 45 columns</p>\n",
              "</div>"
            ],
            "text/plain": [
              "       duration protocoltype      service flag  srcbytes  dstbytes  land  \\\n",
              "0             0          tcp  netbios_dgm  REJ         0         0     0   \n",
              "1             0          tcp         smtp   SF      1239       400     0   \n",
              "2             0          tcp         http   SF       222       945     0   \n",
              "3             0          tcp         http   SF       235      1380     0   \n",
              "4             0          tcp    uucp_path  REJ         0         0     0   \n",
              "...         ...          ...          ...  ...       ...       ...   ...   \n",
              "86840         0          tcp         http   SF       216       674     0   \n",
              "86841         0          tcp         http   SF       368      1725     0   \n",
              "86842        28          tcp          ftp   SF      1483      4152     0   \n",
              "86843         0          tcp         smtp   SF      1679       385     0   \n",
              "86844     11343          tcp       telnet   SF      3396     16694     0   \n",
              "\n",
              "       wrongfragment  urgent  hot  ...  dsthostsamesrcportrate  \\\n",
              "0                  0       0    0  ...                    0.00   \n",
              "1                  0       0    0  ...                    0.00   \n",
              "2                  0       0    0  ...                    0.02   \n",
              "3                  0       0    0  ...                    0.00   \n",
              "4                  0       0    0  ...                    0.00   \n",
              "...              ...     ...  ...  ...                     ...   \n",
              "86840              0       0    0  ...                    0.01   \n",
              "86841              0       0    0  ...                    0.03   \n",
              "86842              0       0   30  ...                    0.01   \n",
              "86843              0       0    0  ...                    0.00   \n",
              "86844              0       0    0  ...                    0.00   \n",
              "\n",
              "       dsthostsrvdiffhostrate  dsthostserrorrate  dsthostsrvserrorrate  \\\n",
              "0                        0.00               0.00                  0.00   \n",
              "1                        0.00               0.11                  0.00   \n",
              "2                        0.03               0.00                  0.00   \n",
              "3                        0.00               0.00                  0.00   \n",
              "4                        0.00               0.00                  0.00   \n",
              "...                       ...                ...                   ...   \n",
              "86840                    0.03               0.01                  0.01   \n",
              "86841                    0.05               0.00                  0.00   \n",
              "86842                    0.00               0.00                  0.00   \n",
              "86843                    0.00               0.69                  0.00   \n",
              "86844                    0.00               0.23                  0.33   \n",
              "\n",
              "       dsthostrerrorrate  dsthostsrvrerrorrate  lastflag  protocoltype_icmp  \\\n",
              "0                   1.00                  1.00        21                  0   \n",
              "1                   0.02                  0.00        18                  0   \n",
              "2                   0.00                  0.00        21                  0   \n",
              "3                   0.00                  0.00        21                  0   \n",
              "4                   1.00                  1.00        19                  0   \n",
              "...                  ...                   ...       ...                ...   \n",
              "86840               0.00                  0.00        21                  0   \n",
              "86841               0.13                  0.06        20                  0   \n",
              "86842               0.00                  0.00        20                  0   \n",
              "86843               0.01                  0.00        18                  0   \n",
              "86844               0.00                  0.00        18                  0   \n",
              "\n",
              "       protocoltype_tcp  protocoltype_udp  \n",
              "0                     1                 0  \n",
              "1                     1                 0  \n",
              "2                     1                 0  \n",
              "3                     1                 0  \n",
              "4                     1                 0  \n",
              "...                 ...               ...  \n",
              "86840                 1                 0  \n",
              "86841                 1                 0  \n",
              "86842                 1                 0  \n",
              "86843                 1                 0  \n",
              "86844                 1                 0  \n",
              "\n",
              "[86845 rows x 45 columns]"
            ]
          },
          "execution_count": 20,
          "metadata": {},
          "output_type": "execute_result"
        }
      ],
      "source": [
        "X"
      ]
    },
    {
      "cell_type": "code",
      "execution_count": null,
      "id": "8e8b214d",
      "metadata": {
        "id": "8e8b214d",
        "outputId": "6594a953-9e63-4395-eda8-b67996c17e2c"
      },
      "outputs": [
        {
          "data": {
            "text/plain": [
              "(86845, 45)"
            ]
          },
          "execution_count": 21,
          "metadata": {},
          "output_type": "execute_result"
        }
      ],
      "source": [
        "X.shape"
      ]
    },
    {
      "cell_type": "code",
      "execution_count": null,
      "id": "f80fca1b",
      "metadata": {
        "id": "f80fca1b",
        "outputId": "0374da44-fc4f-4998-bd55-91ca4be71513"
      },
      "outputs": [
        {
          "data": {
            "text/plain": [
              "0        1\n",
              "1        0\n",
              "2        0\n",
              "3        0\n",
              "4        1\n",
              "        ..\n",
              "86840    0\n",
              "86841    0\n",
              "86842    0\n",
              "86843    0\n",
              "86844    0\n",
              "Name: attack, Length: 86845, dtype: int64"
            ]
          },
          "execution_count": 22,
          "metadata": {},
          "output_type": "execute_result"
        }
      ],
      "source": [
        "y"
      ]
    },
    {
      "cell_type": "code",
      "execution_count": null,
      "id": "79f6d8e6",
      "metadata": {
        "id": "79f6d8e6"
      },
      "outputs": [],
      "source": [
        "from sklearn.preprocessing import StandardScaler\n",
        "standardscaler=StandardScaler()"
      ]
    },
    {
      "cell_type": "code",
      "execution_count": null,
      "id": "1e7cec4c",
      "metadata": {
        "id": "1e7cec4c"
      },
      "outputs": [],
      "source": [
        "X.drop(['protocoltype'],axis=1,inplace=True)"
      ]
    },
    {
      "cell_type": "code",
      "execution_count": null,
      "id": "7aa4c87a",
      "metadata": {
        "id": "7aa4c87a"
      },
      "outputs": [],
      "source": [
        "X.drop(['service','flag'],axis=1,inplace=True)"
      ]
    },
    {
      "cell_type": "code",
      "execution_count": null,
      "id": "71efff0a",
      "metadata": {
        "id": "71efff0a"
      },
      "outputs": [],
      "source": [
        "from sklearn.model_selection import train_test_split"
      ]
    },
    {
      "cell_type": "code",
      "execution_count": null,
      "id": "73389142",
      "metadata": {
        "id": "73389142"
      },
      "outputs": [],
      "source": [
        "X_train,X_test,y_train,y_test=train_test_split(X,y,test_size=0.3,random_state=42)"
      ]
    },
    {
      "cell_type": "code",
      "execution_count": null,
      "id": "32d1c27e",
      "metadata": {
        "id": "32d1c27e"
      },
      "outputs": [],
      "source": [
        "X_train_scaled=standardscaler.fit_transform(X_train)\n",
        "X_test_scaled=standardscaler.fit_transform(X_test)"
      ]
    },
    {
      "cell_type": "code",
      "execution_count": null,
      "id": "e47a8cdf",
      "metadata": {
        "id": "e47a8cdf",
        "outputId": "96fd7264-d83b-45f7-90dd-51fa1e31ff58"
      },
      "outputs": [
        {
          "data": {
            "text/html": [
              "<div>\n",
              "<style scoped>\n",
              "    .dataframe tbody tr th:only-of-type {\n",
              "        vertical-align: middle;\n",
              "    }\n",
              "\n",
              "    .dataframe tbody tr th {\n",
              "        vertical-align: top;\n",
              "    }\n",
              "\n",
              "    .dataframe thead th {\n",
              "        text-align: right;\n",
              "    }\n",
              "</style>\n",
              "<table border=\"1\" class=\"dataframe\">\n",
              "  <thead>\n",
              "    <tr style=\"text-align: right;\">\n",
              "      <th></th>\n",
              "      <th>duration</th>\n",
              "      <th>protocoltype</th>\n",
              "      <th>service</th>\n",
              "      <th>flag</th>\n",
              "      <th>srcbytes</th>\n",
              "      <th>dstbytes</th>\n",
              "      <th>land</th>\n",
              "      <th>wrongfragment</th>\n",
              "      <th>urgent</th>\n",
              "      <th>hot</th>\n",
              "      <th>...</th>\n",
              "      <th>dsthostsrvcount</th>\n",
              "      <th>dsthostsamesrvrate</th>\n",
              "      <th>dsthostdiffsrvrate</th>\n",
              "      <th>dsthostsamesrcportrate</th>\n",
              "      <th>dsthostsrvdiffhostrate</th>\n",
              "      <th>dsthostserrorrate</th>\n",
              "      <th>dsthostsrvserrorrate</th>\n",
              "      <th>dsthostrerrorrate</th>\n",
              "      <th>dsthostsrvrerrorrate</th>\n",
              "      <th>lastflag</th>\n",
              "    </tr>\n",
              "  </thead>\n",
              "  <tbody>\n",
              "    <tr>\n",
              "      <th>0</th>\n",
              "      <td>0</td>\n",
              "      <td>tcp</td>\n",
              "      <td>mtp</td>\n",
              "      <td>REJ</td>\n",
              "      <td>0</td>\n",
              "      <td>0</td>\n",
              "      <td>0</td>\n",
              "      <td>0</td>\n",
              "      <td>0</td>\n",
              "      <td>0</td>\n",
              "      <td>...</td>\n",
              "      <td>7</td>\n",
              "      <td>0.03</td>\n",
              "      <td>0.08</td>\n",
              "      <td>0.00</td>\n",
              "      <td>0.00</td>\n",
              "      <td>0.0</td>\n",
              "      <td>0.0</td>\n",
              "      <td>1.0</td>\n",
              "      <td>1.0</td>\n",
              "      <td>20</td>\n",
              "    </tr>\n",
              "    <tr>\n",
              "      <th>1</th>\n",
              "      <td>0</td>\n",
              "      <td>tcp</td>\n",
              "      <td>http</td>\n",
              "      <td>SF</td>\n",
              "      <td>199</td>\n",
              "      <td>1721</td>\n",
              "      <td>0</td>\n",
              "      <td>0</td>\n",
              "      <td>0</td>\n",
              "      <td>0</td>\n",
              "      <td>...</td>\n",
              "      <td>255</td>\n",
              "      <td>1.00</td>\n",
              "      <td>0.00</td>\n",
              "      <td>0.00</td>\n",
              "      <td>0.00</td>\n",
              "      <td>0.0</td>\n",
              "      <td>0.0</td>\n",
              "      <td>0.0</td>\n",
              "      <td>0.0</td>\n",
              "      <td>21</td>\n",
              "    </tr>\n",
              "    <tr>\n",
              "      <th>2</th>\n",
              "      <td>0</td>\n",
              "      <td>tcp</td>\n",
              "      <td>discard</td>\n",
              "      <td>S0</td>\n",
              "      <td>0</td>\n",
              "      <td>0</td>\n",
              "      <td>0</td>\n",
              "      <td>0</td>\n",
              "      <td>0</td>\n",
              "      <td>0</td>\n",
              "      <td>...</td>\n",
              "      <td>14</td>\n",
              "      <td>0.05</td>\n",
              "      <td>0.09</td>\n",
              "      <td>0.00</td>\n",
              "      <td>0.00</td>\n",
              "      <td>1.0</td>\n",
              "      <td>1.0</td>\n",
              "      <td>0.0</td>\n",
              "      <td>0.0</td>\n",
              "      <td>18</td>\n",
              "    </tr>\n",
              "    <tr>\n",
              "      <th>3</th>\n",
              "      <td>0</td>\n",
              "      <td>tcp</td>\n",
              "      <td>telnet</td>\n",
              "      <td>S0</td>\n",
              "      <td>0</td>\n",
              "      <td>0</td>\n",
              "      <td>0</td>\n",
              "      <td>0</td>\n",
              "      <td>0</td>\n",
              "      <td>0</td>\n",
              "      <td>...</td>\n",
              "      <td>2</td>\n",
              "      <td>0.01</td>\n",
              "      <td>0.09</td>\n",
              "      <td>0.00</td>\n",
              "      <td>0.00</td>\n",
              "      <td>1.0</td>\n",
              "      <td>1.0</td>\n",
              "      <td>0.0</td>\n",
              "      <td>0.0</td>\n",
              "      <td>18</td>\n",
              "    </tr>\n",
              "    <tr>\n",
              "      <th>4</th>\n",
              "      <td>0</td>\n",
              "      <td>tcp</td>\n",
              "      <td>exec</td>\n",
              "      <td>S0</td>\n",
              "      <td>0</td>\n",
              "      <td>0</td>\n",
              "      <td>0</td>\n",
              "      <td>0</td>\n",
              "      <td>0</td>\n",
              "      <td>0</td>\n",
              "      <td>...</td>\n",
              "      <td>16</td>\n",
              "      <td>0.06</td>\n",
              "      <td>0.06</td>\n",
              "      <td>0.00</td>\n",
              "      <td>0.00</td>\n",
              "      <td>1.0</td>\n",
              "      <td>1.0</td>\n",
              "      <td>0.0</td>\n",
              "      <td>0.0</td>\n",
              "      <td>20</td>\n",
              "    </tr>\n",
              "    <tr>\n",
              "      <th>...</th>\n",
              "      <td>...</td>\n",
              "      <td>...</td>\n",
              "      <td>...</td>\n",
              "      <td>...</td>\n",
              "      <td>...</td>\n",
              "      <td>...</td>\n",
              "      <td>...</td>\n",
              "      <td>...</td>\n",
              "      <td>...</td>\n",
              "      <td>...</td>\n",
              "      <td>...</td>\n",
              "      <td>...</td>\n",
              "      <td>...</td>\n",
              "      <td>...</td>\n",
              "      <td>...</td>\n",
              "      <td>...</td>\n",
              "      <td>...</td>\n",
              "      <td>...</td>\n",
              "      <td>...</td>\n",
              "      <td>...</td>\n",
              "      <td>...</td>\n",
              "    </tr>\n",
              "    <tr>\n",
              "      <th>21707</th>\n",
              "      <td>0</td>\n",
              "      <td>tcp</td>\n",
              "      <td>http</td>\n",
              "      <td>SF</td>\n",
              "      <td>273</td>\n",
              "      <td>4367</td>\n",
              "      <td>0</td>\n",
              "      <td>0</td>\n",
              "      <td>0</td>\n",
              "      <td>0</td>\n",
              "      <td>...</td>\n",
              "      <td>255</td>\n",
              "      <td>1.00</td>\n",
              "      <td>0.00</td>\n",
              "      <td>0.03</td>\n",
              "      <td>0.01</td>\n",
              "      <td>0.0</td>\n",
              "      <td>0.0</td>\n",
              "      <td>0.0</td>\n",
              "      <td>0.0</td>\n",
              "      <td>21</td>\n",
              "    </tr>\n",
              "    <tr>\n",
              "      <th>21708</th>\n",
              "      <td>0</td>\n",
              "      <td>udp</td>\n",
              "      <td>domain_u</td>\n",
              "      <td>SF</td>\n",
              "      <td>45</td>\n",
              "      <td>45</td>\n",
              "      <td>0</td>\n",
              "      <td>0</td>\n",
              "      <td>0</td>\n",
              "      <td>0</td>\n",
              "      <td>...</td>\n",
              "      <td>255</td>\n",
              "      <td>1.00</td>\n",
              "      <td>0.00</td>\n",
              "      <td>0.01</td>\n",
              "      <td>0.00</td>\n",
              "      <td>0.0</td>\n",
              "      <td>0.0</td>\n",
              "      <td>0.0</td>\n",
              "      <td>0.0</td>\n",
              "      <td>18</td>\n",
              "    </tr>\n",
              "    <tr>\n",
              "      <th>21709</th>\n",
              "      <td>0</td>\n",
              "      <td>tcp</td>\n",
              "      <td>imap4</td>\n",
              "      <td>S0</td>\n",
              "      <td>0</td>\n",
              "      <td>0</td>\n",
              "      <td>0</td>\n",
              "      <td>0</td>\n",
              "      <td>0</td>\n",
              "      <td>0</td>\n",
              "      <td>...</td>\n",
              "      <td>10</td>\n",
              "      <td>0.04</td>\n",
              "      <td>0.08</td>\n",
              "      <td>0.00</td>\n",
              "      <td>0.00</td>\n",
              "      <td>1.0</td>\n",
              "      <td>1.0</td>\n",
              "      <td>0.0</td>\n",
              "      <td>0.0</td>\n",
              "      <td>20</td>\n",
              "    </tr>\n",
              "    <tr>\n",
              "      <th>21710</th>\n",
              "      <td>0</td>\n",
              "      <td>tcp</td>\n",
              "      <td>ftp_data</td>\n",
              "      <td>SF</td>\n",
              "      <td>29</td>\n",
              "      <td>0</td>\n",
              "      <td>0</td>\n",
              "      <td>0</td>\n",
              "      <td>0</td>\n",
              "      <td>0</td>\n",
              "      <td>...</td>\n",
              "      <td>45</td>\n",
              "      <td>0.47</td>\n",
              "      <td>0.07</td>\n",
              "      <td>0.47</td>\n",
              "      <td>0.04</td>\n",
              "      <td>0.0</td>\n",
              "      <td>0.0</td>\n",
              "      <td>0.0</td>\n",
              "      <td>0.0</td>\n",
              "      <td>21</td>\n",
              "    </tr>\n",
              "    <tr>\n",
              "      <th>21711</th>\n",
              "      <td>0</td>\n",
              "      <td>tcp</td>\n",
              "      <td>private</td>\n",
              "      <td>S0</td>\n",
              "      <td>0</td>\n",
              "      <td>0</td>\n",
              "      <td>0</td>\n",
              "      <td>0</td>\n",
              "      <td>0</td>\n",
              "      <td>0</td>\n",
              "      <td>...</td>\n",
              "      <td>2</td>\n",
              "      <td>0.01</td>\n",
              "      <td>0.08</td>\n",
              "      <td>0.00</td>\n",
              "      <td>0.00</td>\n",
              "      <td>1.0</td>\n",
              "      <td>1.0</td>\n",
              "      <td>0.0</td>\n",
              "      <td>0.0</td>\n",
              "      <td>21</td>\n",
              "    </tr>\n",
              "  </tbody>\n",
              "</table>\n",
              "<p>21712 rows × 42 columns</p>\n",
              "</div>"
            ],
            "text/plain": [
              "       duration protocoltype   service flag  srcbytes  dstbytes  land  \\\n",
              "0             0          tcp       mtp  REJ         0         0     0   \n",
              "1             0          tcp      http   SF       199      1721     0   \n",
              "2             0          tcp   discard   S0         0         0     0   \n",
              "3             0          tcp    telnet   S0         0         0     0   \n",
              "4             0          tcp      exec   S0         0         0     0   \n",
              "...         ...          ...       ...  ...       ...       ...   ...   \n",
              "21707         0          tcp      http   SF       273      4367     0   \n",
              "21708         0          udp  domain_u   SF        45        45     0   \n",
              "21709         0          tcp     imap4   S0         0         0     0   \n",
              "21710         0          tcp  ftp_data   SF        29         0     0   \n",
              "21711         0          tcp   private   S0         0         0     0   \n",
              "\n",
              "       wrongfragment  urgent  hot  ...  dsthostsrvcount  dsthostsamesrvrate  \\\n",
              "0                  0       0    0  ...                7                0.03   \n",
              "1                  0       0    0  ...              255                1.00   \n",
              "2                  0       0    0  ...               14                0.05   \n",
              "3                  0       0    0  ...                2                0.01   \n",
              "4                  0       0    0  ...               16                0.06   \n",
              "...              ...     ...  ...  ...              ...                 ...   \n",
              "21707              0       0    0  ...              255                1.00   \n",
              "21708              0       0    0  ...              255                1.00   \n",
              "21709              0       0    0  ...               10                0.04   \n",
              "21710              0       0    0  ...               45                0.47   \n",
              "21711              0       0    0  ...                2                0.01   \n",
              "\n",
              "       dsthostdiffsrvrate  dsthostsamesrcportrate  dsthostsrvdiffhostrate  \\\n",
              "0                    0.08                    0.00                    0.00   \n",
              "1                    0.00                    0.00                    0.00   \n",
              "2                    0.09                    0.00                    0.00   \n",
              "3                    0.09                    0.00                    0.00   \n",
              "4                    0.06                    0.00                    0.00   \n",
              "...                   ...                     ...                     ...   \n",
              "21707                0.00                    0.03                    0.01   \n",
              "21708                0.00                    0.01                    0.00   \n",
              "21709                0.08                    0.00                    0.00   \n",
              "21710                0.07                    0.47                    0.04   \n",
              "21711                0.08                    0.00                    0.00   \n",
              "\n",
              "       dsthostserrorrate  dsthostsrvserrorrate  dsthostrerrorrate  \\\n",
              "0                    0.0                   0.0                1.0   \n",
              "1                    0.0                   0.0                0.0   \n",
              "2                    1.0                   1.0                0.0   \n",
              "3                    1.0                   1.0                0.0   \n",
              "4                    1.0                   1.0                0.0   \n",
              "...                  ...                   ...                ...   \n",
              "21707                0.0                   0.0                0.0   \n",
              "21708                0.0                   0.0                0.0   \n",
              "21709                1.0                   1.0                0.0   \n",
              "21710                0.0                   0.0                0.0   \n",
              "21711                1.0                   1.0                0.0   \n",
              "\n",
              "       dsthostsrvrerrorrate  lastflag  \n",
              "0                       1.0        20  \n",
              "1                       0.0        21  \n",
              "2                       0.0        18  \n",
              "3                       0.0        18  \n",
              "4                       0.0        20  \n",
              "...                     ...       ...  \n",
              "21707                   0.0        21  \n",
              "21708                   0.0        18  \n",
              "21709                   0.0        20  \n",
              "21710                   0.0        21  \n",
              "21711                   0.0        21  \n",
              "\n",
              "[21712 rows x 42 columns]"
            ]
          },
          "execution_count": 29,
          "metadata": {},
          "output_type": "execute_result"
        }
      ],
      "source": [
        "test_data\n"
      ]
    },
    {
      "cell_type": "code",
      "execution_count": null,
      "id": "44c39e90",
      "metadata": {
        "id": "44c39e90"
      },
      "outputs": [],
      "source": [
        "categorical_data1=pd.get_dummies(test_data['protocoltype'])"
      ]
    },
    {
      "cell_type": "code",
      "execution_count": null,
      "id": "cd6acd91",
      "metadata": {
        "id": "cd6acd91"
      },
      "outputs": [],
      "source": [
        "test_data=test_data.join(categorical_data1)"
      ]
    },
    {
      "cell_type": "code",
      "execution_count": null,
      "id": "6490ca15",
      "metadata": {
        "id": "6490ca15"
      },
      "outputs": [],
      "source": [
        "test_data.drop(['protocoltype','service','flag'],axis=1,inplace=True)"
      ]
    },
    {
      "cell_type": "code",
      "execution_count": null,
      "id": "4271e63a",
      "metadata": {
        "id": "4271e63a"
      },
      "outputs": [],
      "source": [
        "test_data['icmp']=test_data['icmp'].replace({True:1,False:0})\n",
        "test_data['tcp']=test_data['tcp'].replace({True:1,False:0})\n",
        "test_data['udp']=test_data['udp'].replace({True:1,False:0})"
      ]
    },
    {
      "cell_type": "code",
      "execution_count": null,
      "id": "1f57f982",
      "metadata": {
        "id": "1f57f982",
        "outputId": "9df43f24-8ee2-4437-bc36-ffa982a796e8"
      },
      "outputs": [
        {
          "data": {
            "text/html": [
              "<div>\n",
              "<style scoped>\n",
              "    .dataframe tbody tr th:only-of-type {\n",
              "        vertical-align: middle;\n",
              "    }\n",
              "\n",
              "    .dataframe tbody tr th {\n",
              "        vertical-align: top;\n",
              "    }\n",
              "\n",
              "    .dataframe thead th {\n",
              "        text-align: right;\n",
              "    }\n",
              "</style>\n",
              "<table border=\"1\" class=\"dataframe\">\n",
              "  <thead>\n",
              "    <tr style=\"text-align: right;\">\n",
              "      <th></th>\n",
              "      <th>duration</th>\n",
              "      <th>srcbytes</th>\n",
              "      <th>dstbytes</th>\n",
              "      <th>land</th>\n",
              "      <th>wrongfragment</th>\n",
              "      <th>urgent</th>\n",
              "      <th>hot</th>\n",
              "      <th>numfailedlogins</th>\n",
              "      <th>loggedin</th>\n",
              "      <th>numcompromised</th>\n",
              "      <th>...</th>\n",
              "      <th>dsthostsamesrcportrate</th>\n",
              "      <th>dsthostsrvdiffhostrate</th>\n",
              "      <th>dsthostserrorrate</th>\n",
              "      <th>dsthostsrvserrorrate</th>\n",
              "      <th>dsthostrerrorrate</th>\n",
              "      <th>dsthostsrvrerrorrate</th>\n",
              "      <th>lastflag</th>\n",
              "      <th>icmp</th>\n",
              "      <th>tcp</th>\n",
              "      <th>udp</th>\n",
              "    </tr>\n",
              "  </thead>\n",
              "  <tbody>\n",
              "    <tr>\n",
              "      <th>0</th>\n",
              "      <td>0</td>\n",
              "      <td>0</td>\n",
              "      <td>0</td>\n",
              "      <td>0</td>\n",
              "      <td>0</td>\n",
              "      <td>0</td>\n",
              "      <td>0</td>\n",
              "      <td>0</td>\n",
              "      <td>0</td>\n",
              "      <td>0</td>\n",
              "      <td>...</td>\n",
              "      <td>0.00</td>\n",
              "      <td>0.00</td>\n",
              "      <td>0.0</td>\n",
              "      <td>0.0</td>\n",
              "      <td>1.0</td>\n",
              "      <td>1.0</td>\n",
              "      <td>20</td>\n",
              "      <td>0</td>\n",
              "      <td>1</td>\n",
              "      <td>0</td>\n",
              "    </tr>\n",
              "    <tr>\n",
              "      <th>1</th>\n",
              "      <td>0</td>\n",
              "      <td>199</td>\n",
              "      <td>1721</td>\n",
              "      <td>0</td>\n",
              "      <td>0</td>\n",
              "      <td>0</td>\n",
              "      <td>0</td>\n",
              "      <td>0</td>\n",
              "      <td>1</td>\n",
              "      <td>0</td>\n",
              "      <td>...</td>\n",
              "      <td>0.00</td>\n",
              "      <td>0.00</td>\n",
              "      <td>0.0</td>\n",
              "      <td>0.0</td>\n",
              "      <td>0.0</td>\n",
              "      <td>0.0</td>\n",
              "      <td>21</td>\n",
              "      <td>0</td>\n",
              "      <td>1</td>\n",
              "      <td>0</td>\n",
              "    </tr>\n",
              "    <tr>\n",
              "      <th>2</th>\n",
              "      <td>0</td>\n",
              "      <td>0</td>\n",
              "      <td>0</td>\n",
              "      <td>0</td>\n",
              "      <td>0</td>\n",
              "      <td>0</td>\n",
              "      <td>0</td>\n",
              "      <td>0</td>\n",
              "      <td>0</td>\n",
              "      <td>0</td>\n",
              "      <td>...</td>\n",
              "      <td>0.00</td>\n",
              "      <td>0.00</td>\n",
              "      <td>1.0</td>\n",
              "      <td>1.0</td>\n",
              "      <td>0.0</td>\n",
              "      <td>0.0</td>\n",
              "      <td>18</td>\n",
              "      <td>0</td>\n",
              "      <td>1</td>\n",
              "      <td>0</td>\n",
              "    </tr>\n",
              "    <tr>\n",
              "      <th>3</th>\n",
              "      <td>0</td>\n",
              "      <td>0</td>\n",
              "      <td>0</td>\n",
              "      <td>0</td>\n",
              "      <td>0</td>\n",
              "      <td>0</td>\n",
              "      <td>0</td>\n",
              "      <td>0</td>\n",
              "      <td>0</td>\n",
              "      <td>0</td>\n",
              "      <td>...</td>\n",
              "      <td>0.00</td>\n",
              "      <td>0.00</td>\n",
              "      <td>1.0</td>\n",
              "      <td>1.0</td>\n",
              "      <td>0.0</td>\n",
              "      <td>0.0</td>\n",
              "      <td>18</td>\n",
              "      <td>0</td>\n",
              "      <td>1</td>\n",
              "      <td>0</td>\n",
              "    </tr>\n",
              "    <tr>\n",
              "      <th>4</th>\n",
              "      <td>0</td>\n",
              "      <td>0</td>\n",
              "      <td>0</td>\n",
              "      <td>0</td>\n",
              "      <td>0</td>\n",
              "      <td>0</td>\n",
              "      <td>0</td>\n",
              "      <td>0</td>\n",
              "      <td>0</td>\n",
              "      <td>0</td>\n",
              "      <td>...</td>\n",
              "      <td>0.00</td>\n",
              "      <td>0.00</td>\n",
              "      <td>1.0</td>\n",
              "      <td>1.0</td>\n",
              "      <td>0.0</td>\n",
              "      <td>0.0</td>\n",
              "      <td>20</td>\n",
              "      <td>0</td>\n",
              "      <td>1</td>\n",
              "      <td>0</td>\n",
              "    </tr>\n",
              "    <tr>\n",
              "      <th>...</th>\n",
              "      <td>...</td>\n",
              "      <td>...</td>\n",
              "      <td>...</td>\n",
              "      <td>...</td>\n",
              "      <td>...</td>\n",
              "      <td>...</td>\n",
              "      <td>...</td>\n",
              "      <td>...</td>\n",
              "      <td>...</td>\n",
              "      <td>...</td>\n",
              "      <td>...</td>\n",
              "      <td>...</td>\n",
              "      <td>...</td>\n",
              "      <td>...</td>\n",
              "      <td>...</td>\n",
              "      <td>...</td>\n",
              "      <td>...</td>\n",
              "      <td>...</td>\n",
              "      <td>...</td>\n",
              "      <td>...</td>\n",
              "      <td>...</td>\n",
              "    </tr>\n",
              "    <tr>\n",
              "      <th>21707</th>\n",
              "      <td>0</td>\n",
              "      <td>273</td>\n",
              "      <td>4367</td>\n",
              "      <td>0</td>\n",
              "      <td>0</td>\n",
              "      <td>0</td>\n",
              "      <td>0</td>\n",
              "      <td>0</td>\n",
              "      <td>1</td>\n",
              "      <td>0</td>\n",
              "      <td>...</td>\n",
              "      <td>0.03</td>\n",
              "      <td>0.01</td>\n",
              "      <td>0.0</td>\n",
              "      <td>0.0</td>\n",
              "      <td>0.0</td>\n",
              "      <td>0.0</td>\n",
              "      <td>21</td>\n",
              "      <td>0</td>\n",
              "      <td>1</td>\n",
              "      <td>0</td>\n",
              "    </tr>\n",
              "    <tr>\n",
              "      <th>21708</th>\n",
              "      <td>0</td>\n",
              "      <td>45</td>\n",
              "      <td>45</td>\n",
              "      <td>0</td>\n",
              "      <td>0</td>\n",
              "      <td>0</td>\n",
              "      <td>0</td>\n",
              "      <td>0</td>\n",
              "      <td>0</td>\n",
              "      <td>0</td>\n",
              "      <td>...</td>\n",
              "      <td>0.01</td>\n",
              "      <td>0.00</td>\n",
              "      <td>0.0</td>\n",
              "      <td>0.0</td>\n",
              "      <td>0.0</td>\n",
              "      <td>0.0</td>\n",
              "      <td>18</td>\n",
              "      <td>0</td>\n",
              "      <td>0</td>\n",
              "      <td>1</td>\n",
              "    </tr>\n",
              "    <tr>\n",
              "      <th>21709</th>\n",
              "      <td>0</td>\n",
              "      <td>0</td>\n",
              "      <td>0</td>\n",
              "      <td>0</td>\n",
              "      <td>0</td>\n",
              "      <td>0</td>\n",
              "      <td>0</td>\n",
              "      <td>0</td>\n",
              "      <td>0</td>\n",
              "      <td>0</td>\n",
              "      <td>...</td>\n",
              "      <td>0.00</td>\n",
              "      <td>0.00</td>\n",
              "      <td>1.0</td>\n",
              "      <td>1.0</td>\n",
              "      <td>0.0</td>\n",
              "      <td>0.0</td>\n",
              "      <td>20</td>\n",
              "      <td>0</td>\n",
              "      <td>1</td>\n",
              "      <td>0</td>\n",
              "    </tr>\n",
              "    <tr>\n",
              "      <th>21710</th>\n",
              "      <td>0</td>\n",
              "      <td>29</td>\n",
              "      <td>0</td>\n",
              "      <td>0</td>\n",
              "      <td>0</td>\n",
              "      <td>0</td>\n",
              "      <td>0</td>\n",
              "      <td>0</td>\n",
              "      <td>0</td>\n",
              "      <td>0</td>\n",
              "      <td>...</td>\n",
              "      <td>0.47</td>\n",
              "      <td>0.04</td>\n",
              "      <td>0.0</td>\n",
              "      <td>0.0</td>\n",
              "      <td>0.0</td>\n",
              "      <td>0.0</td>\n",
              "      <td>21</td>\n",
              "      <td>0</td>\n",
              "      <td>1</td>\n",
              "      <td>0</td>\n",
              "    </tr>\n",
              "    <tr>\n",
              "      <th>21711</th>\n",
              "      <td>0</td>\n",
              "      <td>0</td>\n",
              "      <td>0</td>\n",
              "      <td>0</td>\n",
              "      <td>0</td>\n",
              "      <td>0</td>\n",
              "      <td>0</td>\n",
              "      <td>0</td>\n",
              "      <td>0</td>\n",
              "      <td>0</td>\n",
              "      <td>...</td>\n",
              "      <td>0.00</td>\n",
              "      <td>0.00</td>\n",
              "      <td>1.0</td>\n",
              "      <td>1.0</td>\n",
              "      <td>0.0</td>\n",
              "      <td>0.0</td>\n",
              "      <td>21</td>\n",
              "      <td>0</td>\n",
              "      <td>1</td>\n",
              "      <td>0</td>\n",
              "    </tr>\n",
              "  </tbody>\n",
              "</table>\n",
              "<p>21712 rows × 42 columns</p>\n",
              "</div>"
            ],
            "text/plain": [
              "       duration  srcbytes  dstbytes  land  wrongfragment  urgent  hot  \\\n",
              "0             0         0         0     0              0       0    0   \n",
              "1             0       199      1721     0              0       0    0   \n",
              "2             0         0         0     0              0       0    0   \n",
              "3             0         0         0     0              0       0    0   \n",
              "4             0         0         0     0              0       0    0   \n",
              "...         ...       ...       ...   ...            ...     ...  ...   \n",
              "21707         0       273      4367     0              0       0    0   \n",
              "21708         0        45        45     0              0       0    0   \n",
              "21709         0         0         0     0              0       0    0   \n",
              "21710         0        29         0     0              0       0    0   \n",
              "21711         0         0         0     0              0       0    0   \n",
              "\n",
              "       numfailedlogins  loggedin  numcompromised  ...  dsthostsamesrcportrate  \\\n",
              "0                    0         0               0  ...                    0.00   \n",
              "1                    0         1               0  ...                    0.00   \n",
              "2                    0         0               0  ...                    0.00   \n",
              "3                    0         0               0  ...                    0.00   \n",
              "4                    0         0               0  ...                    0.00   \n",
              "...                ...       ...             ...  ...                     ...   \n",
              "21707                0         1               0  ...                    0.03   \n",
              "21708                0         0               0  ...                    0.01   \n",
              "21709                0         0               0  ...                    0.00   \n",
              "21710                0         0               0  ...                    0.47   \n",
              "21711                0         0               0  ...                    0.00   \n",
              "\n",
              "       dsthostsrvdiffhostrate  dsthostserrorrate  dsthostsrvserrorrate  \\\n",
              "0                        0.00                0.0                   0.0   \n",
              "1                        0.00                0.0                   0.0   \n",
              "2                        0.00                1.0                   1.0   \n",
              "3                        0.00                1.0                   1.0   \n",
              "4                        0.00                1.0                   1.0   \n",
              "...                       ...                ...                   ...   \n",
              "21707                    0.01                0.0                   0.0   \n",
              "21708                    0.00                0.0                   0.0   \n",
              "21709                    0.00                1.0                   1.0   \n",
              "21710                    0.04                0.0                   0.0   \n",
              "21711                    0.00                1.0                   1.0   \n",
              "\n",
              "       dsthostrerrorrate  dsthostsrvrerrorrate  lastflag  icmp  tcp  udp  \n",
              "0                    1.0                   1.0        20     0    1    0  \n",
              "1                    0.0                   0.0        21     0    1    0  \n",
              "2                    0.0                   0.0        18     0    1    0  \n",
              "3                    0.0                   0.0        18     0    1    0  \n",
              "4                    0.0                   0.0        20     0    1    0  \n",
              "...                  ...                   ...       ...   ...  ...  ...  \n",
              "21707                0.0                   0.0        21     0    1    0  \n",
              "21708                0.0                   0.0        18     0    0    1  \n",
              "21709                0.0                   0.0        20     0    1    0  \n",
              "21710                0.0                   0.0        21     0    1    0  \n",
              "21711                0.0                   0.0        21     0    1    0  \n",
              "\n",
              "[21712 rows x 42 columns]"
            ]
          },
          "execution_count": 73,
          "metadata": {},
          "output_type": "execute_result"
        }
      ],
      "source": [
        "test_data"
      ]
    },
    {
      "cell_type": "code",
      "execution_count": null,
      "id": "a741e016",
      "metadata": {
        "id": "a741e016"
      },
      "outputs": [],
      "source": [
        "X1=test_data"
      ]
    },
    {
      "cell_type": "code",
      "execution_count": null,
      "id": "204215e2",
      "metadata": {
        "id": "204215e2"
      },
      "outputs": [],
      "source": [
        "X1_scaled=standardscaler.fit_transform(X1)"
      ]
    },
    {
      "cell_type": "markdown",
      "id": "3674e7a2",
      "metadata": {
        "id": "3674e7a2"
      },
      "source": [
        "Logistic Regression"
      ]
    },
    {
      "cell_type": "code",
      "execution_count": null,
      "id": "aa5ce7c8",
      "metadata": {
        "id": "aa5ce7c8"
      },
      "outputs": [],
      "source": [
        "from sklearn.linear_model import LogisticRegression\n",
        "model1=LogisticRegression()"
      ]
    },
    {
      "cell_type": "code",
      "execution_count": null,
      "id": "bf87e423",
      "metadata": {
        "id": "bf87e423",
        "outputId": "2d1f23a9-68a7-491e-c3ec-fe407105f436"
      },
      "outputs": [
        {
          "name": "stderr",
          "output_type": "stream",
          "text": [
            "C:\\Users\\hp\\anaconda3\\Lib\\site-packages\\sklearn\\linear_model\\_logistic.py:458: ConvergenceWarning: lbfgs failed to converge (status=1):\n",
            "STOP: TOTAL NO. of ITERATIONS REACHED LIMIT.\n",
            "\n",
            "Increase the number of iterations (max_iter) or scale the data as shown in:\n",
            "    https://scikit-learn.org/stable/modules/preprocessing.html\n",
            "Please also refer to the documentation for alternative solver options:\n",
            "    https://scikit-learn.org/stable/modules/linear_model.html#logistic-regression\n",
            "  n_iter_i = _check_optimize_result(\n"
          ]
        },
        {
          "data": {
            "text/html": [
              "<style>#sk-container-id-1 {color: black;background-color: white;}#sk-container-id-1 pre{padding: 0;}#sk-container-id-1 div.sk-toggleable {background-color: white;}#sk-container-id-1 label.sk-toggleable__label {cursor: pointer;display: block;width: 100%;margin-bottom: 0;padding: 0.3em;box-sizing: border-box;text-align: center;}#sk-container-id-1 label.sk-toggleable__label-arrow:before {content: \"▸\";float: left;margin-right: 0.25em;color: #696969;}#sk-container-id-1 label.sk-toggleable__label-arrow:hover:before {color: black;}#sk-container-id-1 div.sk-estimator:hover label.sk-toggleable__label-arrow:before {color: black;}#sk-container-id-1 div.sk-toggleable__content {max-height: 0;max-width: 0;overflow: hidden;text-align: left;background-color: #f0f8ff;}#sk-container-id-1 div.sk-toggleable__content pre {margin: 0.2em;color: black;border-radius: 0.25em;background-color: #f0f8ff;}#sk-container-id-1 input.sk-toggleable__control:checked~div.sk-toggleable__content {max-height: 200px;max-width: 100%;overflow: auto;}#sk-container-id-1 input.sk-toggleable__control:checked~label.sk-toggleable__label-arrow:before {content: \"▾\";}#sk-container-id-1 div.sk-estimator input.sk-toggleable__control:checked~label.sk-toggleable__label {background-color: #d4ebff;}#sk-container-id-1 div.sk-label input.sk-toggleable__control:checked~label.sk-toggleable__label {background-color: #d4ebff;}#sk-container-id-1 input.sk-hidden--visually {border: 0;clip: rect(1px 1px 1px 1px);clip: rect(1px, 1px, 1px, 1px);height: 1px;margin: -1px;overflow: hidden;padding: 0;position: absolute;width: 1px;}#sk-container-id-1 div.sk-estimator {font-family: monospace;background-color: #f0f8ff;border: 1px dotted black;border-radius: 0.25em;box-sizing: border-box;margin-bottom: 0.5em;}#sk-container-id-1 div.sk-estimator:hover {background-color: #d4ebff;}#sk-container-id-1 div.sk-parallel-item::after {content: \"\";width: 100%;border-bottom: 1px solid gray;flex-grow: 1;}#sk-container-id-1 div.sk-label:hover label.sk-toggleable__label {background-color: #d4ebff;}#sk-container-id-1 div.sk-serial::before {content: \"\";position: absolute;border-left: 1px solid gray;box-sizing: border-box;top: 0;bottom: 0;left: 50%;z-index: 0;}#sk-container-id-1 div.sk-serial {display: flex;flex-direction: column;align-items: center;background-color: white;padding-right: 0.2em;padding-left: 0.2em;position: relative;}#sk-container-id-1 div.sk-item {position: relative;z-index: 1;}#sk-container-id-1 div.sk-parallel {display: flex;align-items: stretch;justify-content: center;background-color: white;position: relative;}#sk-container-id-1 div.sk-item::before, #sk-container-id-1 div.sk-parallel-item::before {content: \"\";position: absolute;border-left: 1px solid gray;box-sizing: border-box;top: 0;bottom: 0;left: 50%;z-index: -1;}#sk-container-id-1 div.sk-parallel-item {display: flex;flex-direction: column;z-index: 1;position: relative;background-color: white;}#sk-container-id-1 div.sk-parallel-item:first-child::after {align-self: flex-end;width: 50%;}#sk-container-id-1 div.sk-parallel-item:last-child::after {align-self: flex-start;width: 50%;}#sk-container-id-1 div.sk-parallel-item:only-child::after {width: 0;}#sk-container-id-1 div.sk-dashed-wrapped {border: 1px dashed gray;margin: 0 0.4em 0.5em 0.4em;box-sizing: border-box;padding-bottom: 0.4em;background-color: white;}#sk-container-id-1 div.sk-label label {font-family: monospace;font-weight: bold;display: inline-block;line-height: 1.2em;}#sk-container-id-1 div.sk-label-container {text-align: center;}#sk-container-id-1 div.sk-container {/* jupyter's `normalize.less` sets `[hidden] { display: none; }` but bootstrap.min.css set `[hidden] { display: none !important; }` so we also need the `!important` here to be able to override the default hidden behavior on the sphinx rendered scikit-learn.org. See: https://github.com/scikit-learn/scikit-learn/issues/21755 */display: inline-block !important;position: relative;}#sk-container-id-1 div.sk-text-repr-fallback {display: none;}</style><div id=\"sk-container-id-1\" class=\"sk-top-container\"><div class=\"sk-text-repr-fallback\"><pre>LogisticRegression()</pre><b>In a Jupyter environment, please rerun this cell to show the HTML representation or trust the notebook. <br />On GitHub, the HTML representation is unable to render, please try loading this page with nbviewer.org.</b></div><div class=\"sk-container\" hidden><div class=\"sk-item\"><div class=\"sk-estimator sk-toggleable\"><input class=\"sk-toggleable__control sk-hidden--visually\" id=\"sk-estimator-id-1\" type=\"checkbox\" checked><label for=\"sk-estimator-id-1\" class=\"sk-toggleable__label sk-toggleable__label-arrow\">LogisticRegression</label><div class=\"sk-toggleable__content\"><pre>LogisticRegression()</pre></div></div></div></div></div>"
            ],
            "text/plain": [
              "LogisticRegression()"
            ]
          },
          "execution_count": 32,
          "metadata": {},
          "output_type": "execute_result"
        }
      ],
      "source": [
        "model1.fit(X_train,y_train)"
      ]
    },
    {
      "cell_type": "code",
      "execution_count": null,
      "id": "b2573dd5",
      "metadata": {
        "id": "b2573dd5",
        "outputId": "dd5f4c0a-576d-4396-bba5-4c1351938787"
      },
      "outputs": [
        {
          "name": "stderr",
          "output_type": "stream",
          "text": [
            "C:\\Users\\hp\\anaconda3\\Lib\\site-packages\\sklearn\\base.py:439: UserWarning: X does not have valid feature names, but LogisticRegression was fitted with feature names\n",
            "  warnings.warn(\n"
          ]
        },
        {
          "data": {
            "text/plain": [
              "0.9905413630307118"
            ]
          },
          "execution_count": 33,
          "metadata": {},
          "output_type": "execute_result"
        }
      ],
      "source": [
        "model1.score(X_train_scaled,y_train)"
      ]
    },
    {
      "cell_type": "code",
      "execution_count": null,
      "id": "7a34cae9",
      "metadata": {
        "id": "7a34cae9",
        "outputId": "7d42f936-123a-466e-fa0f-6ab9cae80764"
      },
      "outputs": [
        {
          "name": "stderr",
          "output_type": "stream",
          "text": [
            "C:\\Users\\hp\\anaconda3\\Lib\\site-packages\\sklearn\\base.py:439: UserWarning: X does not have valid feature names, but LogisticRegression was fitted with feature names\n",
            "  warnings.warn(\n"
          ]
        },
        {
          "data": {
            "text/plain": [
              "0.9914024717893606"
            ]
          },
          "execution_count": 34,
          "metadata": {},
          "output_type": "execute_result"
        }
      ],
      "source": [
        "model1.score(X_test_scaled,y_test)"
      ]
    },
    {
      "cell_type": "markdown",
      "id": "461616e0",
      "metadata": {
        "id": "461616e0"
      },
      "source": [
        "DecisionTreeClassifier"
      ]
    },
    {
      "cell_type": "code",
      "execution_count": null,
      "id": "e0ecac64",
      "metadata": {
        "id": "e0ecac64"
      },
      "outputs": [],
      "source": [
        "from sklearn.tree import DecisionTreeClassifier\n",
        "model2=DecisionTreeClassifier(criterion='gini',random_state=0)"
      ]
    },
    {
      "cell_type": "code",
      "execution_count": null,
      "id": "1e81c2c8",
      "metadata": {
        "id": "1e81c2c8",
        "outputId": "308201fe-250d-4e3c-e2e8-bc658d8028d4"
      },
      "outputs": [
        {
          "data": {
            "text/html": [
              "<style>#sk-container-id-2 {color: black;background-color: white;}#sk-container-id-2 pre{padding: 0;}#sk-container-id-2 div.sk-toggleable {background-color: white;}#sk-container-id-2 label.sk-toggleable__label {cursor: pointer;display: block;width: 100%;margin-bottom: 0;padding: 0.3em;box-sizing: border-box;text-align: center;}#sk-container-id-2 label.sk-toggleable__label-arrow:before {content: \"▸\";float: left;margin-right: 0.25em;color: #696969;}#sk-container-id-2 label.sk-toggleable__label-arrow:hover:before {color: black;}#sk-container-id-2 div.sk-estimator:hover label.sk-toggleable__label-arrow:before {color: black;}#sk-container-id-2 div.sk-toggleable__content {max-height: 0;max-width: 0;overflow: hidden;text-align: left;background-color: #f0f8ff;}#sk-container-id-2 div.sk-toggleable__content pre {margin: 0.2em;color: black;border-radius: 0.25em;background-color: #f0f8ff;}#sk-container-id-2 input.sk-toggleable__control:checked~div.sk-toggleable__content {max-height: 200px;max-width: 100%;overflow: auto;}#sk-container-id-2 input.sk-toggleable__control:checked~label.sk-toggleable__label-arrow:before {content: \"▾\";}#sk-container-id-2 div.sk-estimator input.sk-toggleable__control:checked~label.sk-toggleable__label {background-color: #d4ebff;}#sk-container-id-2 div.sk-label input.sk-toggleable__control:checked~label.sk-toggleable__label {background-color: #d4ebff;}#sk-container-id-2 input.sk-hidden--visually {border: 0;clip: rect(1px 1px 1px 1px);clip: rect(1px, 1px, 1px, 1px);height: 1px;margin: -1px;overflow: hidden;padding: 0;position: absolute;width: 1px;}#sk-container-id-2 div.sk-estimator {font-family: monospace;background-color: #f0f8ff;border: 1px dotted black;border-radius: 0.25em;box-sizing: border-box;margin-bottom: 0.5em;}#sk-container-id-2 div.sk-estimator:hover {background-color: #d4ebff;}#sk-container-id-2 div.sk-parallel-item::after {content: \"\";width: 100%;border-bottom: 1px solid gray;flex-grow: 1;}#sk-container-id-2 div.sk-label:hover label.sk-toggleable__label {background-color: #d4ebff;}#sk-container-id-2 div.sk-serial::before {content: \"\";position: absolute;border-left: 1px solid gray;box-sizing: border-box;top: 0;bottom: 0;left: 50%;z-index: 0;}#sk-container-id-2 div.sk-serial {display: flex;flex-direction: column;align-items: center;background-color: white;padding-right: 0.2em;padding-left: 0.2em;position: relative;}#sk-container-id-2 div.sk-item {position: relative;z-index: 1;}#sk-container-id-2 div.sk-parallel {display: flex;align-items: stretch;justify-content: center;background-color: white;position: relative;}#sk-container-id-2 div.sk-item::before, #sk-container-id-2 div.sk-parallel-item::before {content: \"\";position: absolute;border-left: 1px solid gray;box-sizing: border-box;top: 0;bottom: 0;left: 50%;z-index: -1;}#sk-container-id-2 div.sk-parallel-item {display: flex;flex-direction: column;z-index: 1;position: relative;background-color: white;}#sk-container-id-2 div.sk-parallel-item:first-child::after {align-self: flex-end;width: 50%;}#sk-container-id-2 div.sk-parallel-item:last-child::after {align-self: flex-start;width: 50%;}#sk-container-id-2 div.sk-parallel-item:only-child::after {width: 0;}#sk-container-id-2 div.sk-dashed-wrapped {border: 1px dashed gray;margin: 0 0.4em 0.5em 0.4em;box-sizing: border-box;padding-bottom: 0.4em;background-color: white;}#sk-container-id-2 div.sk-label label {font-family: monospace;font-weight: bold;display: inline-block;line-height: 1.2em;}#sk-container-id-2 div.sk-label-container {text-align: center;}#sk-container-id-2 div.sk-container {/* jupyter's `normalize.less` sets `[hidden] { display: none; }` but bootstrap.min.css set `[hidden] { display: none !important; }` so we also need the `!important` here to be able to override the default hidden behavior on the sphinx rendered scikit-learn.org. See: https://github.com/scikit-learn/scikit-learn/issues/21755 */display: inline-block !important;position: relative;}#sk-container-id-2 div.sk-text-repr-fallback {display: none;}</style><div id=\"sk-container-id-2\" class=\"sk-top-container\"><div class=\"sk-text-repr-fallback\"><pre>DecisionTreeClassifier(random_state=0)</pre><b>In a Jupyter environment, please rerun this cell to show the HTML representation or trust the notebook. <br />On GitHub, the HTML representation is unable to render, please try loading this page with nbviewer.org.</b></div><div class=\"sk-container\" hidden><div class=\"sk-item\"><div class=\"sk-estimator sk-toggleable\"><input class=\"sk-toggleable__control sk-hidden--visually\" id=\"sk-estimator-id-2\" type=\"checkbox\" checked><label for=\"sk-estimator-id-2\" class=\"sk-toggleable__label sk-toggleable__label-arrow\">DecisionTreeClassifier</label><div class=\"sk-toggleable__content\"><pre>DecisionTreeClassifier(random_state=0)</pre></div></div></div></div></div>"
            ],
            "text/plain": [
              "DecisionTreeClassifier(random_state=0)"
            ]
          },
          "execution_count": 36,
          "metadata": {},
          "output_type": "execute_result"
        }
      ],
      "source": [
        "model2.fit(X_train_scaled,y_train)"
      ]
    },
    {
      "cell_type": "code",
      "execution_count": null,
      "id": "2156c84f",
      "metadata": {
        "id": "2156c84f",
        "outputId": "5fadefdb-2766-471c-c049-c50ee7cbaeb3"
      },
      "outputs": [
        {
          "data": {
            "text/plain": [
              "1.0"
            ]
          },
          "execution_count": 37,
          "metadata": {},
          "output_type": "execute_result"
        }
      ],
      "source": [
        "model2.score(X_train_scaled,y_train)"
      ]
    },
    {
      "cell_type": "code",
      "execution_count": null,
      "id": "b8bc1954",
      "metadata": {
        "id": "b8bc1954",
        "outputId": "6fcc33e6-a2e3-41b4-d6c5-592a4ff25d40"
      },
      "outputs": [
        {
          "data": {
            "text/plain": [
              "0.6202118676594764"
            ]
          },
          "execution_count": 38,
          "metadata": {},
          "output_type": "execute_result"
        }
      ],
      "source": [
        "model2.score(X_test_scaled,y_test)"
      ]
    },
    {
      "cell_type": "code",
      "execution_count": null,
      "id": "6d0ae747",
      "metadata": {
        "id": "6d0ae747"
      },
      "outputs": [],
      "source": [
        "from sklearn.metrics import roc_auc_score"
      ]
    },
    {
      "cell_type": "code",
      "execution_count": null,
      "id": "13ba5e86",
      "metadata": {
        "id": "13ba5e86",
        "outputId": "96d18d48-a4e6-4e4d-8bda-7d8124015221"
      },
      "outputs": [
        {
          "name": "stderr",
          "output_type": "stream",
          "text": [
            "C:\\Users\\hp\\anaconda3\\Lib\\site-packages\\sklearn\\base.py:439: UserWarning: X does not have valid feature names, but LogisticRegression was fitted with feature names\n",
            "  warnings.warn(\n"
          ]
        }
      ],
      "source": [
        "y_pred_model1=model1.predict(X_test_scaled)"
      ]
    },
    {
      "cell_type": "code",
      "execution_count": null,
      "id": "8df65b4d",
      "metadata": {
        "id": "8df65b4d",
        "outputId": "6cbc4433-1124-43c0-e2b6-08adf228ad0c"
      },
      "outputs": [
        {
          "data": {
            "text/plain": [
              "array([1, 0, 1, ..., 0, 1, 1], dtype=int64)"
            ]
          },
          "execution_count": 41,
          "metadata": {},
          "output_type": "execute_result"
        }
      ],
      "source": [
        "y_pred_model1"
      ]
    },
    {
      "cell_type": "code",
      "execution_count": null,
      "id": "3aeb47ff",
      "metadata": {
        "id": "3aeb47ff",
        "outputId": "38a0c74f-7b33-4b66-9943-27c1d067ad73"
      },
      "outputs": [
        {
          "data": {
            "text/plain": [
              "0.99271296083607"
            ]
          },
          "execution_count": 42,
          "metadata": {},
          "output_type": "execute_result"
        }
      ],
      "source": [
        "roc_auc_score(y_test,y_pred_model1)"
      ]
    },
    {
      "cell_type": "markdown",
      "id": "0b59bb96",
      "metadata": {
        "id": "0b59bb96"
      },
      "source": [
        "Random Forest Classifier"
      ]
    },
    {
      "cell_type": "code",
      "execution_count": null,
      "id": "61cadd99",
      "metadata": {
        "id": "61cadd99"
      },
      "outputs": [],
      "source": [
        "from sklearn.ensemble import RandomForestClassifier\n",
        "model3=RandomForestClassifier(n_estimators=1000,random_state=0,max_depth=30)"
      ]
    },
    {
      "cell_type": "code",
      "execution_count": null,
      "id": "5aa17e40",
      "metadata": {
        "id": "5aa17e40",
        "outputId": "b0f450ca-57fe-40c8-96ed-1a082837a084"
      },
      "outputs": [
        {
          "data": {
            "text/html": [
              "<style>#sk-container-id-3 {color: black;background-color: white;}#sk-container-id-3 pre{padding: 0;}#sk-container-id-3 div.sk-toggleable {background-color: white;}#sk-container-id-3 label.sk-toggleable__label {cursor: pointer;display: block;width: 100%;margin-bottom: 0;padding: 0.3em;box-sizing: border-box;text-align: center;}#sk-container-id-3 label.sk-toggleable__label-arrow:before {content: \"▸\";float: left;margin-right: 0.25em;color: #696969;}#sk-container-id-3 label.sk-toggleable__label-arrow:hover:before {color: black;}#sk-container-id-3 div.sk-estimator:hover label.sk-toggleable__label-arrow:before {color: black;}#sk-container-id-3 div.sk-toggleable__content {max-height: 0;max-width: 0;overflow: hidden;text-align: left;background-color: #f0f8ff;}#sk-container-id-3 div.sk-toggleable__content pre {margin: 0.2em;color: black;border-radius: 0.25em;background-color: #f0f8ff;}#sk-container-id-3 input.sk-toggleable__control:checked~div.sk-toggleable__content {max-height: 200px;max-width: 100%;overflow: auto;}#sk-container-id-3 input.sk-toggleable__control:checked~label.sk-toggleable__label-arrow:before {content: \"▾\";}#sk-container-id-3 div.sk-estimator input.sk-toggleable__control:checked~label.sk-toggleable__label {background-color: #d4ebff;}#sk-container-id-3 div.sk-label input.sk-toggleable__control:checked~label.sk-toggleable__label {background-color: #d4ebff;}#sk-container-id-3 input.sk-hidden--visually {border: 0;clip: rect(1px 1px 1px 1px);clip: rect(1px, 1px, 1px, 1px);height: 1px;margin: -1px;overflow: hidden;padding: 0;position: absolute;width: 1px;}#sk-container-id-3 div.sk-estimator {font-family: monospace;background-color: #f0f8ff;border: 1px dotted black;border-radius: 0.25em;box-sizing: border-box;margin-bottom: 0.5em;}#sk-container-id-3 div.sk-estimator:hover {background-color: #d4ebff;}#sk-container-id-3 div.sk-parallel-item::after {content: \"\";width: 100%;border-bottom: 1px solid gray;flex-grow: 1;}#sk-container-id-3 div.sk-label:hover label.sk-toggleable__label {background-color: #d4ebff;}#sk-container-id-3 div.sk-serial::before {content: \"\";position: absolute;border-left: 1px solid gray;box-sizing: border-box;top: 0;bottom: 0;left: 50%;z-index: 0;}#sk-container-id-3 div.sk-serial {display: flex;flex-direction: column;align-items: center;background-color: white;padding-right: 0.2em;padding-left: 0.2em;position: relative;}#sk-container-id-3 div.sk-item {position: relative;z-index: 1;}#sk-container-id-3 div.sk-parallel {display: flex;align-items: stretch;justify-content: center;background-color: white;position: relative;}#sk-container-id-3 div.sk-item::before, #sk-container-id-3 div.sk-parallel-item::before {content: \"\";position: absolute;border-left: 1px solid gray;box-sizing: border-box;top: 0;bottom: 0;left: 50%;z-index: -1;}#sk-container-id-3 div.sk-parallel-item {display: flex;flex-direction: column;z-index: 1;position: relative;background-color: white;}#sk-container-id-3 div.sk-parallel-item:first-child::after {align-self: flex-end;width: 50%;}#sk-container-id-3 div.sk-parallel-item:last-child::after {align-self: flex-start;width: 50%;}#sk-container-id-3 div.sk-parallel-item:only-child::after {width: 0;}#sk-container-id-3 div.sk-dashed-wrapped {border: 1px dashed gray;margin: 0 0.4em 0.5em 0.4em;box-sizing: border-box;padding-bottom: 0.4em;background-color: white;}#sk-container-id-3 div.sk-label label {font-family: monospace;font-weight: bold;display: inline-block;line-height: 1.2em;}#sk-container-id-3 div.sk-label-container {text-align: center;}#sk-container-id-3 div.sk-container {/* jupyter's `normalize.less` sets `[hidden] { display: none; }` but bootstrap.min.css set `[hidden] { display: none !important; }` so we also need the `!important` here to be able to override the default hidden behavior on the sphinx rendered scikit-learn.org. See: https://github.com/scikit-learn/scikit-learn/issues/21755 */display: inline-block !important;position: relative;}#sk-container-id-3 div.sk-text-repr-fallback {display: none;}</style><div id=\"sk-container-id-3\" class=\"sk-top-container\"><div class=\"sk-text-repr-fallback\"><pre>RandomForestClassifier(max_depth=30, n_estimators=1000, random_state=0)</pre><b>In a Jupyter environment, please rerun this cell to show the HTML representation or trust the notebook. <br />On GitHub, the HTML representation is unable to render, please try loading this page with nbviewer.org.</b></div><div class=\"sk-container\" hidden><div class=\"sk-item\"><div class=\"sk-estimator sk-toggleable\"><input class=\"sk-toggleable__control sk-hidden--visually\" id=\"sk-estimator-id-3\" type=\"checkbox\" checked><label for=\"sk-estimator-id-3\" class=\"sk-toggleable__label sk-toggleable__label-arrow\">RandomForestClassifier</label><div class=\"sk-toggleable__content\"><pre>RandomForestClassifier(max_depth=30, n_estimators=1000, random_state=0)</pre></div></div></div></div></div>"
            ],
            "text/plain": [
              "RandomForestClassifier(max_depth=30, n_estimators=1000, random_state=0)"
            ]
          },
          "execution_count": 44,
          "metadata": {},
          "output_type": "execute_result"
        }
      ],
      "source": [
        "model3.fit(X_train_scaled,y_train)"
      ]
    },
    {
      "cell_type": "code",
      "execution_count": null,
      "id": "f58911ce",
      "metadata": {
        "id": "f58911ce",
        "outputId": "c6caf8f6-c8f6-42ab-8209-ea2794c50893"
      },
      "outputs": [
        {
          "data": {
            "text/plain": [
              "1.0"
            ]
          },
          "execution_count": 45,
          "metadata": {},
          "output_type": "execute_result"
        }
      ],
      "source": [
        "model3.score(X_train_scaled,y_train)"
      ]
    },
    {
      "cell_type": "code",
      "execution_count": null,
      "id": "a39ccc4a",
      "metadata": {
        "id": "a39ccc4a",
        "outputId": "4082cb2c-9395-49a7-e89c-01c856a3b3e2"
      },
      "outputs": [
        {
          "data": {
            "text/plain": [
              "0.6197896676134182"
            ]
          },
          "execution_count": 46,
          "metadata": {},
          "output_type": "execute_result"
        }
      ],
      "source": [
        "model3.score(X_test_scaled,y_test)"
      ]
    },
    {
      "cell_type": "code",
      "execution_count": null,
      "id": "f931df38",
      "metadata": {
        "id": "f931df38"
      },
      "outputs": [],
      "source": [
        "y_pred_model3=model3.predict(X_test_scaled)"
      ]
    },
    {
      "cell_type": "code",
      "execution_count": null,
      "id": "a541ee59",
      "metadata": {
        "id": "a541ee59",
        "outputId": "0378fe28-ead7-45ff-dda6-c077c7d8905a"
      },
      "outputs": [
        {
          "data": {
            "text/plain": [
              "array([0, 0, 0, ..., 0, 0, 0], dtype=int64)"
            ]
          },
          "execution_count": 48,
          "metadata": {},
          "output_type": "execute_result"
        }
      ],
      "source": [
        "y_pred_model3"
      ]
    },
    {
      "cell_type": "code",
      "execution_count": null,
      "id": "01a4cd9f",
      "metadata": {
        "id": "01a4cd9f",
        "outputId": "8dc8ff79-26bf-4da3-8c0b-b540ad56d1c1"
      },
      "outputs": [
        {
          "data": {
            "text/plain": [
              "0.5"
            ]
          },
          "execution_count": 49,
          "metadata": {},
          "output_type": "execute_result"
        }
      ],
      "source": [
        "roc_auc_score(y_test,y_pred_model3)"
      ]
    },
    {
      "cell_type": "markdown",
      "id": "da0a4e1f",
      "metadata": {
        "id": "da0a4e1f"
      },
      "source": [
        "XGB Classifier"
      ]
    },
    {
      "cell_type": "code",
      "execution_count": null,
      "id": "ffe3ad96",
      "metadata": {
        "id": "ffe3ad96"
      },
      "outputs": [],
      "source": [
        "from xgboost import XGBClassifier\n",
        "model4=XGBClassifier(n_estimators=1000,learning_rate=0.01)"
      ]
    },
    {
      "cell_type": "code",
      "execution_count": null,
      "id": "62a6189d",
      "metadata": {
        "id": "62a6189d",
        "outputId": "a831b430-52c0-43dc-aff3-6d29dfea50ca"
      },
      "outputs": [
        {
          "data": {
            "text/html": [
              "<style>#sk-container-id-4 {color: black;background-color: white;}#sk-container-id-4 pre{padding: 0;}#sk-container-id-4 div.sk-toggleable {background-color: white;}#sk-container-id-4 label.sk-toggleable__label {cursor: pointer;display: block;width: 100%;margin-bottom: 0;padding: 0.3em;box-sizing: border-box;text-align: center;}#sk-container-id-4 label.sk-toggleable__label-arrow:before {content: \"▸\";float: left;margin-right: 0.25em;color: #696969;}#sk-container-id-4 label.sk-toggleable__label-arrow:hover:before {color: black;}#sk-container-id-4 div.sk-estimator:hover label.sk-toggleable__label-arrow:before {color: black;}#sk-container-id-4 div.sk-toggleable__content {max-height: 0;max-width: 0;overflow: hidden;text-align: left;background-color: #f0f8ff;}#sk-container-id-4 div.sk-toggleable__content pre {margin: 0.2em;color: black;border-radius: 0.25em;background-color: #f0f8ff;}#sk-container-id-4 input.sk-toggleable__control:checked~div.sk-toggleable__content {max-height: 200px;max-width: 100%;overflow: auto;}#sk-container-id-4 input.sk-toggleable__control:checked~label.sk-toggleable__label-arrow:before {content: \"▾\";}#sk-container-id-4 div.sk-estimator input.sk-toggleable__control:checked~label.sk-toggleable__label {background-color: #d4ebff;}#sk-container-id-4 div.sk-label input.sk-toggleable__control:checked~label.sk-toggleable__label {background-color: #d4ebff;}#sk-container-id-4 input.sk-hidden--visually {border: 0;clip: rect(1px 1px 1px 1px);clip: rect(1px, 1px, 1px, 1px);height: 1px;margin: -1px;overflow: hidden;padding: 0;position: absolute;width: 1px;}#sk-container-id-4 div.sk-estimator {font-family: monospace;background-color: #f0f8ff;border: 1px dotted black;border-radius: 0.25em;box-sizing: border-box;margin-bottom: 0.5em;}#sk-container-id-4 div.sk-estimator:hover {background-color: #d4ebff;}#sk-container-id-4 div.sk-parallel-item::after {content: \"\";width: 100%;border-bottom: 1px solid gray;flex-grow: 1;}#sk-container-id-4 div.sk-label:hover label.sk-toggleable__label {background-color: #d4ebff;}#sk-container-id-4 div.sk-serial::before {content: \"\";position: absolute;border-left: 1px solid gray;box-sizing: border-box;top: 0;bottom: 0;left: 50%;z-index: 0;}#sk-container-id-4 div.sk-serial {display: flex;flex-direction: column;align-items: center;background-color: white;padding-right: 0.2em;padding-left: 0.2em;position: relative;}#sk-container-id-4 div.sk-item {position: relative;z-index: 1;}#sk-container-id-4 div.sk-parallel {display: flex;align-items: stretch;justify-content: center;background-color: white;position: relative;}#sk-container-id-4 div.sk-item::before, #sk-container-id-4 div.sk-parallel-item::before {content: \"\";position: absolute;border-left: 1px solid gray;box-sizing: border-box;top: 0;bottom: 0;left: 50%;z-index: -1;}#sk-container-id-4 div.sk-parallel-item {display: flex;flex-direction: column;z-index: 1;position: relative;background-color: white;}#sk-container-id-4 div.sk-parallel-item:first-child::after {align-self: flex-end;width: 50%;}#sk-container-id-4 div.sk-parallel-item:last-child::after {align-self: flex-start;width: 50%;}#sk-container-id-4 div.sk-parallel-item:only-child::after {width: 0;}#sk-container-id-4 div.sk-dashed-wrapped {border: 1px dashed gray;margin: 0 0.4em 0.5em 0.4em;box-sizing: border-box;padding-bottom: 0.4em;background-color: white;}#sk-container-id-4 div.sk-label label {font-family: monospace;font-weight: bold;display: inline-block;line-height: 1.2em;}#sk-container-id-4 div.sk-label-container {text-align: center;}#sk-container-id-4 div.sk-container {/* jupyter's `normalize.less` sets `[hidden] { display: none; }` but bootstrap.min.css set `[hidden] { display: none !important; }` so we also need the `!important` here to be able to override the default hidden behavior on the sphinx rendered scikit-learn.org. See: https://github.com/scikit-learn/scikit-learn/issues/21755 */display: inline-block !important;position: relative;}#sk-container-id-4 div.sk-text-repr-fallback {display: none;}</style><div id=\"sk-container-id-4\" class=\"sk-top-container\"><div class=\"sk-text-repr-fallback\"><pre>XGBClassifier(base_score=None, booster=None, callbacks=None,\n",
              "              colsample_bylevel=None, colsample_bynode=None,\n",
              "              colsample_bytree=None, device=None, early_stopping_rounds=None,\n",
              "              enable_categorical=False, eval_metric=None, feature_types=None,\n",
              "              gamma=None, grow_policy=None, importance_type=None,\n",
              "              interaction_constraints=None, learning_rate=0.01, max_bin=None,\n",
              "              max_cat_threshold=None, max_cat_to_onehot=None,\n",
              "              max_delta_step=None, max_depth=None, max_leaves=None,\n",
              "              min_child_weight=None, missing=nan, monotone_constraints=None,\n",
              "              multi_strategy=None, n_estimators=1000, n_jobs=None,\n",
              "              num_parallel_tree=None, random_state=None, ...)</pre><b>In a Jupyter environment, please rerun this cell to show the HTML representation or trust the notebook. <br />On GitHub, the HTML representation is unable to render, please try loading this page with nbviewer.org.</b></div><div class=\"sk-container\" hidden><div class=\"sk-item\"><div class=\"sk-estimator sk-toggleable\"><input class=\"sk-toggleable__control sk-hidden--visually\" id=\"sk-estimator-id-4\" type=\"checkbox\" checked><label for=\"sk-estimator-id-4\" class=\"sk-toggleable__label sk-toggleable__label-arrow\">XGBClassifier</label><div class=\"sk-toggleable__content\"><pre>XGBClassifier(base_score=None, booster=None, callbacks=None,\n",
              "              colsample_bylevel=None, colsample_bynode=None,\n",
              "              colsample_bytree=None, device=None, early_stopping_rounds=None,\n",
              "              enable_categorical=False, eval_metric=None, feature_types=None,\n",
              "              gamma=None, grow_policy=None, importance_type=None,\n",
              "              interaction_constraints=None, learning_rate=0.01, max_bin=None,\n",
              "              max_cat_threshold=None, max_cat_to_onehot=None,\n",
              "              max_delta_step=None, max_depth=None, max_leaves=None,\n",
              "              min_child_weight=None, missing=nan, monotone_constraints=None,\n",
              "              multi_strategy=None, n_estimators=1000, n_jobs=None,\n",
              "              num_parallel_tree=None, random_state=None, ...)</pre></div></div></div></div></div>"
            ],
            "text/plain": [
              "XGBClassifier(base_score=None, booster=None, callbacks=None,\n",
              "              colsample_bylevel=None, colsample_bynode=None,\n",
              "              colsample_bytree=None, device=None, early_stopping_rounds=None,\n",
              "              enable_categorical=False, eval_metric=None, feature_types=None,\n",
              "              gamma=None, grow_policy=None, importance_type=None,\n",
              "              interaction_constraints=None, learning_rate=0.01, max_bin=None,\n",
              "              max_cat_threshold=None, max_cat_to_onehot=None,\n",
              "              max_delta_step=None, max_depth=None, max_leaves=None,\n",
              "              min_child_weight=None, missing=nan, monotone_constraints=None,\n",
              "              multi_strategy=None, n_estimators=1000, n_jobs=None,\n",
              "              num_parallel_tree=None, random_state=None, ...)"
            ]
          },
          "execution_count": 51,
          "metadata": {},
          "output_type": "execute_result"
        }
      ],
      "source": [
        "model4.fit(X_train_scaled,y_train)"
      ]
    },
    {
      "cell_type": "code",
      "execution_count": null,
      "id": "5e3ae85c",
      "metadata": {
        "id": "5e3ae85c",
        "outputId": "472e7a0b-7e50-4e9f-b9b4-167d6135f6b6"
      },
      "outputs": [
        {
          "data": {
            "text/plain": [
              "1.0"
            ]
          },
          "execution_count": 52,
          "metadata": {},
          "output_type": "execute_result"
        }
      ],
      "source": [
        "model4.score(X_train_scaled,y_train)"
      ]
    },
    {
      "cell_type": "code",
      "execution_count": null,
      "id": "045cfeec",
      "metadata": {
        "id": "045cfeec",
        "outputId": "93a76c02-fba6-4b8d-d096-3e446f471d2d"
      },
      "outputs": [
        {
          "data": {
            "text/plain": [
              "0.6197896676134182"
            ]
          },
          "execution_count": 53,
          "metadata": {},
          "output_type": "execute_result"
        }
      ],
      "source": [
        "model4.score(X_test_scaled,y_test)"
      ]
    },
    {
      "cell_type": "markdown",
      "id": "724ee7cd",
      "metadata": {
        "id": "724ee7cd"
      },
      "source": [
        "Neural Networks"
      ]
    },
    {
      "cell_type": "code",
      "execution_count": null,
      "id": "12bc043a",
      "metadata": {
        "id": "12bc043a"
      },
      "outputs": [],
      "source": [
        "import keras\n",
        "from keras.models import Sequential\n",
        "from keras.layers import Dense"
      ]
    },
    {
      "cell_type": "code",
      "execution_count": null,
      "id": "af45ceab",
      "metadata": {
        "id": "af45ceab",
        "outputId": "8f2835ae-6d41-43a6-d155-d3327f1a995f"
      },
      "outputs": [
        {
          "name": "stderr",
          "output_type": "stream",
          "text": [
            "C:\\Users\\hp\\anaconda3\\Lib\\site-packages\\keras\\src\\layers\\core\\dense.py:87: UserWarning: Do not pass an `input_shape`/`input_dim` argument to a layer. When using Sequential models, prefer using an `Input(shape)` object as the first layer in the model instead.\n",
            "  super().__init__(activity_regularizer=activity_regularizer, **kwargs)\n"
          ]
        }
      ],
      "source": [
        "model5=Sequential()\n",
        "model5.add(Dense(500,activation='relu',input_dim=42))\n",
        "model5.add(Dense(100,activation='relu'))\n",
        "model5.add(Dense(1,activation='sigmoid'))"
      ]
    },
    {
      "cell_type": "code",
      "execution_count": null,
      "id": "f659acf2",
      "metadata": {
        "id": "f659acf2"
      },
      "outputs": [],
      "source": [
        "model5.compile(optimizer='adam',\n",
        "              loss='binary_crossentropy',\n",
        "              metrics=['accuracy'])"
      ]
    },
    {
      "cell_type": "code",
      "execution_count": 75,
      "id": "419c7c74",
      "metadata": {
        "id": "419c7c74",
        "outputId": "aea6b4a0-787b-49ba-db03-1dbb34108b3e",
        "colab": {
          "base_uri": "https://localhost:8080/"
        }
      },
      "outputs": [
        {
          "metadata": {
            "tags": null
          },
          "name": "stdout",
          "output_type": "stream",
          "text": [
            "Epoch 1/40\n",
            "\u001b[1m1900/1900\u001b[0m \u001b[32m━━━━━━━━━━━━━━━━━━━━\u001b[0m\u001b[37m\u001b[0m \u001b[1m4s\u001b[0m 2ms/step - accuracy: 0.9973 - loss: 0.0135\n",
            "Epoch 2/40\n",
            "\u001b[1m1900/1900\u001b[0m \u001b[32m━━━━━━━━━━━━━━━━━━━━\u001b[0m\u001b[37m\u001b[0m \u001b[1m5s\u001b[0m 2ms/step - accuracy: 0.9998 - loss: 5.8256e-04\n",
            "Epoch 3/40\n",
            "\u001b[1m1900/1900\u001b[0m \u001b[32m━━━━━━━━━━━━━━━━━━━━\u001b[0m\u001b[37m\u001b[0m \u001b[1m3s\u001b[0m 2ms/step - accuracy: 0.9999 - loss: 2.8339e-04\n",
            "Epoch 4/40\n",
            "\u001b[1m1900/1900\u001b[0m \u001b[32m━━━━━━━━━━━━━━━━━━━━\u001b[0m\u001b[37m\u001b[0m \u001b[1m3s\u001b[0m 2ms/step - accuracy: 1.0000 - loss: 2.3857e-05\n",
            "Epoch 5/40\n",
            "\u001b[1m1900/1900\u001b[0m \u001b[32m━━━━━━━━━━━━━━━━━━━━\u001b[0m\u001b[37m\u001b[0m \u001b[1m11s\u001b[0m 4ms/step - accuracy: 1.0000 - loss: 5.2867e-07\n",
            "Epoch 6/40\n",
            "\u001b[1m1900/1900\u001b[0m \u001b[32m━━━━━━━━━━━━━━━━━━━━\u001b[0m\u001b[37m\u001b[0m \u001b[1m3s\u001b[0m 2ms/step - accuracy: 1.0000 - loss: 2.9470e-07\n",
            "Epoch 7/40\n",
            "\u001b[1m1900/1900\u001b[0m \u001b[32m━━━━━━━━━━━━━━━━━━━━\u001b[0m\u001b[37m\u001b[0m \u001b[1m3s\u001b[0m 2ms/step - accuracy: 1.0000 - loss: 9.3812e-08\n",
            "Epoch 8/40\n",
            "\u001b[1m1900/1900\u001b[0m \u001b[32m━━━━━━━━━━━━━━━━━━━━\u001b[0m\u001b[37m\u001b[0m \u001b[1m5s\u001b[0m 2ms/step - accuracy: 1.0000 - loss: 4.1937e-08\n",
            "Epoch 9/40\n",
            "\u001b[1m1900/1900\u001b[0m \u001b[32m━━━━━━━━━━━━━━━━━━━━\u001b[0m\u001b[37m\u001b[0m \u001b[1m5s\u001b[0m 2ms/step - accuracy: 1.0000 - loss: 2.9930e-08\n",
            "Epoch 10/40\n",
            "\u001b[1m1900/1900\u001b[0m \u001b[32m━━━━━━━━━━━━━━━━━━━━\u001b[0m\u001b[37m\u001b[0m \u001b[1m5s\u001b[0m 2ms/step - accuracy: 1.0000 - loss: 4.9222e-09\n",
            "Epoch 11/40\n",
            "\u001b[1m1900/1900\u001b[0m \u001b[32m━━━━━━━━━━━━━━━━━━━━\u001b[0m\u001b[37m\u001b[0m \u001b[1m3s\u001b[0m 2ms/step - accuracy: 1.0000 - loss: 2.1507e-09\n",
            "Epoch 12/40\n",
            "\u001b[1m1900/1900\u001b[0m \u001b[32m━━━━━━━━━━━━━━━━━━━━\u001b[0m\u001b[37m\u001b[0m \u001b[1m6s\u001b[0m 2ms/step - accuracy: 1.0000 - loss: 1.2710e-09\n",
            "Epoch 13/40\n",
            "\u001b[1m1900/1900\u001b[0m \u001b[32m━━━━━━━━━━━━━━━━━━━━\u001b[0m\u001b[37m\u001b[0m \u001b[1m5s\u001b[0m 2ms/step - accuracy: 1.0000 - loss: 5.5770e-10\n",
            "Epoch 14/40\n",
            "\u001b[1m1900/1900\u001b[0m \u001b[32m━━━━━━━━━━━━━━━━━━━━\u001b[0m\u001b[37m\u001b[0m \u001b[1m3s\u001b[0m 2ms/step - accuracy: 1.0000 - loss: 3.1225e-10\n",
            "Epoch 15/40\n",
            "\u001b[1m1900/1900\u001b[0m \u001b[32m━━━━━━━━━━━━━━━━━━━━\u001b[0m\u001b[37m\u001b[0m \u001b[1m4s\u001b[0m 2ms/step - accuracy: 1.0000 - loss: 1.2910e-10\n",
            "Epoch 16/40\n",
            "\u001b[1m1900/1900\u001b[0m \u001b[32m━━━━━━━━━━━━━━━━━━━━\u001b[0m\u001b[37m\u001b[0m \u001b[1m3s\u001b[0m 2ms/step - accuracy: 1.0000 - loss: 1.2631e-10\n",
            "Epoch 17/40\n",
            "\u001b[1m1900/1900\u001b[0m \u001b[32m━━━━━━━━━━━━━━━━━━━━\u001b[0m\u001b[37m\u001b[0m \u001b[1m3s\u001b[0m 2ms/step - accuracy: 1.0000 - loss: 9.2797e-11\n",
            "Epoch 18/40\n",
            "\u001b[1m1900/1900\u001b[0m \u001b[32m━━━━━━━━━━━━━━━━━━━━\u001b[0m\u001b[37m\u001b[0m \u001b[1m3s\u001b[0m 2ms/step - accuracy: 1.0000 - loss: 6.8065e-11\n",
            "Epoch 19/40\n",
            "\u001b[1m1900/1900\u001b[0m \u001b[32m━━━━━━━━━━━━━━━━━━━━\u001b[0m\u001b[37m\u001b[0m \u001b[1m5s\u001b[0m 2ms/step - accuracy: 1.0000 - loss: 6.2746e-11\n",
            "Epoch 20/40\n",
            "\u001b[1m1900/1900\u001b[0m \u001b[32m━━━━━━━━━━━━━━━━━━━━\u001b[0m\u001b[37m\u001b[0m \u001b[1m5s\u001b[0m 2ms/step - accuracy: 1.0000 - loss: 6.0354e-11\n",
            "Epoch 21/40\n",
            "\u001b[1m1900/1900\u001b[0m \u001b[32m━━━━━━━━━━━━━━━━━━━━\u001b[0m\u001b[37m\u001b[0m \u001b[1m4s\u001b[0m 2ms/step - accuracy: 1.0000 - loss: 4.0005e-11\n",
            "Epoch 22/40\n",
            "\u001b[1m1900/1900\u001b[0m \u001b[32m━━━━━━━━━━━━━━━━━━━━\u001b[0m\u001b[37m\u001b[0m \u001b[1m5s\u001b[0m 2ms/step - accuracy: 1.0000 - loss: 3.9070e-11\n",
            "Epoch 23/40\n",
            "\u001b[1m1900/1900\u001b[0m \u001b[32m━━━━━━━━━━━━━━━━━━━━\u001b[0m\u001b[37m\u001b[0m \u001b[1m3s\u001b[0m 2ms/step - accuracy: 1.0000 - loss: 3.6895e-11\n",
            "Epoch 24/40\n",
            "\u001b[1m1900/1900\u001b[0m \u001b[32m━━━━━━━━━━━━━━━━━━━━\u001b[0m\u001b[37m\u001b[0m \u001b[1m5s\u001b[0m 2ms/step - accuracy: 1.0000 - loss: 2.6630e-11\n",
            "Epoch 25/40\n",
            "\u001b[1m1900/1900\u001b[0m \u001b[32m━━━━━━━━━━━━━━━━━━━━\u001b[0m\u001b[37m\u001b[0m \u001b[1m3s\u001b[0m 2ms/step - accuracy: 1.0000 - loss: 2.7071e-11\n",
            "Epoch 26/40\n",
            "\u001b[1m1900/1900\u001b[0m \u001b[32m━━━━━━━━━━━━━━━━━━━━\u001b[0m\u001b[37m\u001b[0m \u001b[1m6s\u001b[0m 2ms/step - accuracy: 1.0000 - loss: 2.3336e-11\n",
            "Epoch 27/40\n",
            "\u001b[1m1900/1900\u001b[0m \u001b[32m━━━━━━━━━━━━━━━━━━━━\u001b[0m\u001b[37m\u001b[0m \u001b[1m5s\u001b[0m 2ms/step - accuracy: 1.0000 - loss: 2.8163e-11\n",
            "Epoch 28/40\n",
            "\u001b[1m1900/1900\u001b[0m \u001b[32m━━━━━━━━━━━━━━━━━━━━\u001b[0m\u001b[37m\u001b[0m \u001b[1m3s\u001b[0m 2ms/step - accuracy: 1.0000 - loss: 2.7416e-11\n",
            "Epoch 29/40\n",
            "\u001b[1m1900/1900\u001b[0m \u001b[32m━━━━━━━━━━━━━━━━━━━━\u001b[0m\u001b[37m\u001b[0m \u001b[1m3s\u001b[0m 2ms/step - accuracy: 1.0000 - loss: 3.1267e-11\n",
            "Epoch 30/40\n",
            "\u001b[1m1900/1900\u001b[0m \u001b[32m━━━━━━━━━━━━━━━━━━━━\u001b[0m\u001b[37m\u001b[0m \u001b[1m3s\u001b[0m 2ms/step - accuracy: 1.0000 - loss: 2.0607e-11\n",
            "Epoch 31/40\n",
            "\u001b[1m1900/1900\u001b[0m \u001b[32m━━━━━━━━━━━━━━━━━━━━\u001b[0m\u001b[37m\u001b[0m \u001b[1m3s\u001b[0m 2ms/step - accuracy: 1.0000 - loss: 2.5442e-11\n",
            "Epoch 32/40\n",
            "\u001b[1m1900/1900\u001b[0m \u001b[32m━━━━━━━━━━━━━━━━━━━━\u001b[0m\u001b[37m\u001b[0m \u001b[1m6s\u001b[0m 2ms/step - accuracy: 1.0000 - loss: 2.4720e-11\n",
            "Epoch 33/40\n",
            "\u001b[1m1900/1900\u001b[0m \u001b[32m━━━━━━━━━━━━━━━━━━━━\u001b[0m\u001b[37m\u001b[0m \u001b[1m3s\u001b[0m 2ms/step - accuracy: 1.0000 - loss: 1.5528e-11\n",
            "Epoch 34/40\n",
            "\u001b[1m1900/1900\u001b[0m \u001b[32m━━━━━━━━━━━━━━━━━━━━\u001b[0m\u001b[37m\u001b[0m \u001b[1m3s\u001b[0m 2ms/step - accuracy: 1.0000 - loss: 2.9096e-11\n",
            "Epoch 35/40\n",
            "\u001b[1m1900/1900\u001b[0m \u001b[32m━━━━━━━━━━━━━━━━━━━━\u001b[0m\u001b[37m\u001b[0m \u001b[1m3s\u001b[0m 2ms/step - accuracy: 1.0000 - loss: 1.6603e-11\n",
            "Epoch 36/40\n",
            "\u001b[1m1900/1900\u001b[0m \u001b[32m━━━━━━━━━━━━━━━━━━━━\u001b[0m\u001b[37m\u001b[0m \u001b[1m4s\u001b[0m 2ms/step - accuracy: 1.0000 - loss: 2.4602e-11\n",
            "Epoch 37/40\n",
            "\u001b[1m1900/1900\u001b[0m \u001b[32m━━━━━━━━━━━━━━━━━━━━\u001b[0m\u001b[37m\u001b[0m \u001b[1m5s\u001b[0m 2ms/step - accuracy: 1.0000 - loss: 1.6872e-11\n",
            "Epoch 38/40\n",
            "\u001b[1m1900/1900\u001b[0m \u001b[32m━━━━━━━━━━━━━━━━━━━━\u001b[0m\u001b[37m\u001b[0m \u001b[1m6s\u001b[0m 2ms/step - accuracy: 1.0000 - loss: 2.0963e-11\n",
            "Epoch 39/40\n",
            "\u001b[1m1900/1900\u001b[0m \u001b[32m━━━━━━━━━━━━━━━━━━━━\u001b[0m\u001b[37m\u001b[0m \u001b[1m3s\u001b[0m 2ms/step - accuracy: 1.0000 - loss: 1.4343e-11\n",
            "Epoch 40/40\n",
            "\u001b[1m1900/1900\u001b[0m \u001b[32m━━━━━━━━━━━━━━━━━━━━\u001b[0m\u001b[37m\u001b[0m \u001b[1m5s\u001b[0m 2ms/step - accuracy: 1.0000 - loss: 1.5031e-11\n"
          ]
        },
        {
          "data": {
            "text/plain": [
              "<keras.src.callbacks.history.History at 0x7a4aafc233d0>"
            ]
          },
          "execution_count": 75,
          "metadata": {},
          "output_type": "execute_result"
        }
      ],
      "source": [
        "model5.fit(X_train_scaled,y_train,epochs=40)"
      ]
    },
    {
      "cell_type": "code",
      "execution_count": 92,
      "id": "9b9934ca",
      "metadata": {
        "id": "9b9934ca",
        "outputId": "0cc0eda9-0749-462c-f6c2-cff423430a99",
        "colab": {
          "base_uri": "https://localhost:8080/"
        }
      },
      "outputs": [
        {
          "output_type": "stream",
          "name": "stdout",
          "text": [
            "\u001b[1m815/815\u001b[0m \u001b[32m━━━━━━━━━━━━━━━━━━━━\u001b[0m\u001b[37m\u001b[0m \u001b[1m1s\u001b[0m 774us/step\n"
          ]
        }
      ],
      "source": [
        "y_pred_model5=model5.predict(X_test_scaled)"
      ]
    },
    {
      "cell_type": "code",
      "execution_count": 93,
      "id": "9789a2f2",
      "metadata": {
        "id": "9789a2f2",
        "outputId": "bb9a82a2-e1d7-4d92-c9e1-3acf7c365834",
        "colab": {
          "base_uri": "https://localhost:8080/"
        }
      },
      "outputs": [
        {
          "output_type": "stream",
          "name": "stdout",
          "text": [
            "\u001b[1m815/815\u001b[0m \u001b[32m━━━━━━━━━━━━━━━━━━━━\u001b[0m\u001b[37m\u001b[0m \u001b[1m1s\u001b[0m 1ms/step - accuracy: 1.0000 - loss: 8.4235e-05\n"
          ]
        },
        {
          "output_type": "execute_result",
          "data": {
            "text/plain": [
              "[0.0004907770198769867, 0.9999232292175293]"
            ]
          },
          "metadata": {},
          "execution_count": 93
        }
      ],
      "source": [
        "model5.evaluate(X_test_scaled,y_test)"
      ]
    },
    {
      "cell_type": "code",
      "execution_count": 94,
      "id": "d6d5f8a6",
      "metadata": {
        "id": "d6d5f8a6",
        "outputId": "5d4eebd3-629c-435a-82eb-ef2db3f73ae4",
        "colab": {
          "base_uri": "https://localhost:8080/"
        }
      },
      "outputs": [
        {
          "output_type": "execute_result",
          "data": {
            "text/plain": [
              "np.float64(0.9999999874970373)"
            ]
          },
          "metadata": {},
          "execution_count": 94
        }
      ],
      "source": [
        "roc_auc_score(y_test,y_pred_model5)"
      ]
    },
    {
      "cell_type": "code",
      "execution_count": 95,
      "id": "d369d3c4",
      "metadata": {
        "id": "d369d3c4",
        "outputId": "b297d255-f565-4ee7-a8bc-0c06c60f72ab",
        "colab": {
          "base_uri": "https://localhost:8080/"
        }
      },
      "outputs": [
        {
          "output_type": "execute_result",
          "data": {
            "text/plain": [
              "(26054, 1)"
            ]
          },
          "metadata": {},
          "execution_count": 95
        }
      ],
      "source": [
        "y_pred_model5.shape"
      ]
    },
    {
      "cell_type": "code",
      "execution_count": 96,
      "id": "3cf33dd6",
      "metadata": {
        "id": "3cf33dd6"
      },
      "outputs": [],
      "source": [
        "y_pred_model5_conversion=np.empty([26054,1])"
      ]
    },
    {
      "cell_type": "code",
      "execution_count": 98,
      "id": "9f9287eb",
      "metadata": {
        "id": "9f9287eb"
      },
      "outputs": [],
      "source": [
        "for i in range(26054):\n",
        "    if y_pred_model5[i] >0.5:\n",
        "        y_pred_model5_conversion[i]=1\n",
        "    else:\n",
        "        y_pred_model5_conversion[i]=0"
      ]
    },
    {
      "cell_type": "code",
      "execution_count": 99,
      "id": "3d8329b0",
      "metadata": {
        "id": "3d8329b0",
        "outputId": "1d006b65-432d-44d8-d3f0-92216cd84ab2",
        "colab": {
          "base_uri": "https://localhost:8080/"
        }
      },
      "outputs": [
        {
          "output_type": "execute_result",
          "data": {
            "text/plain": [
              "array([[1.],\n",
              "       [0.],\n",
              "       [1.],\n",
              "       ...,\n",
              "       [0.],\n",
              "       [1.],\n",
              "       [1.]])"
            ]
          },
          "metadata": {},
          "execution_count": 99
        }
      ],
      "source": [
        "y_pred_model5_conversion"
      ]
    },
    {
      "cell_type": "code",
      "execution_count": 100,
      "id": "e6d4cf24",
      "metadata": {
        "id": "e6d4cf24",
        "outputId": "fd8a4ecd-76cb-43a0-e13e-77cb2c287156",
        "colab": {
          "base_uri": "https://localhost:8080/"
        }
      },
      "outputs": [
        {
          "output_type": "execute_result",
          "data": {
            "text/plain": [
              "np.float64(0.9999380728263563)"
            ]
          },
          "metadata": {},
          "execution_count": 100
        }
      ],
      "source": [
        "roc_auc_score(y_test,y_pred_model5_conversion)"
      ]
    },
    {
      "cell_type": "markdown",
      "id": "514e9706",
      "metadata": {
        "id": "514e9706"
      },
      "source": [
        "Predicting our final submission dataset"
      ]
    },
    {
      "cell_type": "code",
      "execution_count": 101,
      "id": "e8f590a2",
      "metadata": {
        "id": "e8f590a2",
        "outputId": "37cac3e0-7c8e-4bd8-9eb2-c849b00ee4b9",
        "colab": {
          "base_uri": "https://localhost:8080/"
        }
      },
      "outputs": [
        {
          "output_type": "stream",
          "name": "stdout",
          "text": [
            "\u001b[1m679/679\u001b[0m \u001b[32m━━━━━━━━━━━━━━━━━━━━\u001b[0m\u001b[37m\u001b[0m \u001b[1m1s\u001b[0m 810us/step\n"
          ]
        }
      ],
      "source": [
        "y_pred_final=model5.predict(X1_scaled)"
      ]
    },
    {
      "cell_type": "code",
      "execution_count": 102,
      "id": "0b0086d2",
      "metadata": {
        "id": "0b0086d2",
        "outputId": "906d0a02-2dce-4716-f414-3ef38588de6c",
        "colab": {
          "base_uri": "https://localhost:8080/"
        }
      },
      "outputs": [
        {
          "output_type": "execute_result",
          "data": {
            "text/plain": [
              "(21712, 1)"
            ]
          },
          "metadata": {},
          "execution_count": 102
        }
      ],
      "source": [
        "y_pred_final.shape"
      ]
    },
    {
      "cell_type": "code",
      "execution_count": 103,
      "id": "a1079cd9",
      "metadata": {
        "id": "a1079cd9"
      },
      "outputs": [],
      "source": [
        "y_pred_final_conversion=np.empty([21712,1])"
      ]
    },
    {
      "cell_type": "code",
      "execution_count": 104,
      "id": "ece96065",
      "metadata": {
        "id": "ece96065"
      },
      "outputs": [],
      "source": [
        "for i in range(21712):\n",
        "    if y_pred_final[i]>0.5:\n",
        "        y_pred_final_conversion[i]=1\n",
        "    else:\n",
        "        y_pred_final_conversion[i]=0"
      ]
    },
    {
      "cell_type": "code",
      "execution_count": 105,
      "id": "ed46b06c",
      "metadata": {
        "id": "ed46b06c",
        "outputId": "952dae92-05f3-42cf-e3d1-97300984e0e2",
        "colab": {
          "base_uri": "https://localhost:8080/"
        }
      },
      "outputs": [
        {
          "output_type": "execute_result",
          "data": {
            "text/plain": [
              "array([[1.],\n",
              "       [0.],\n",
              "       [1.],\n",
              "       ...,\n",
              "       [1.],\n",
              "       [0.],\n",
              "       [1.]])"
            ]
          },
          "metadata": {},
          "execution_count": 105
        }
      ],
      "source": [
        "y_pred_final_conversion"
      ]
    },
    {
      "cell_type": "code",
      "execution_count": 106,
      "id": "636b0ed4",
      "metadata": {
        "id": "636b0ed4"
      },
      "outputs": [],
      "source": [
        "submission=pd.DataFrame(y_pred_final_conversion,columns=['attack'])"
      ]
    },
    {
      "cell_type": "code",
      "execution_count": 107,
      "id": "d4f1e0fa",
      "metadata": {
        "id": "d4f1e0fa",
        "outputId": "3dfbc9ca-c48e-41a6-8499-a80694c6eb94",
        "colab": {
          "base_uri": "https://localhost:8080/",
          "height": 424
        }
      },
      "outputs": [
        {
          "output_type": "execute_result",
          "data": {
            "text/plain": [
              "       attack\n",
              "0         1.0\n",
              "1         0.0\n",
              "2         1.0\n",
              "3         1.0\n",
              "4         1.0\n",
              "...       ...\n",
              "21707     0.0\n",
              "21708     0.0\n",
              "21709     1.0\n",
              "21710     0.0\n",
              "21711     1.0\n",
              "\n",
              "[21712 rows x 1 columns]"
            ],
            "text/html": [
              "\n",
              "  <div id=\"df-11be9caa-9fc6-41d1-9561-0d5e37222a84\" class=\"colab-df-container\">\n",
              "    <div>\n",
              "<style scoped>\n",
              "    .dataframe tbody tr th:only-of-type {\n",
              "        vertical-align: middle;\n",
              "    }\n",
              "\n",
              "    .dataframe tbody tr th {\n",
              "        vertical-align: top;\n",
              "    }\n",
              "\n",
              "    .dataframe thead th {\n",
              "        text-align: right;\n",
              "    }\n",
              "</style>\n",
              "<table border=\"1\" class=\"dataframe\">\n",
              "  <thead>\n",
              "    <tr style=\"text-align: right;\">\n",
              "      <th></th>\n",
              "      <th>attack</th>\n",
              "    </tr>\n",
              "  </thead>\n",
              "  <tbody>\n",
              "    <tr>\n",
              "      <th>0</th>\n",
              "      <td>1.0</td>\n",
              "    </tr>\n",
              "    <tr>\n",
              "      <th>1</th>\n",
              "      <td>0.0</td>\n",
              "    </tr>\n",
              "    <tr>\n",
              "      <th>2</th>\n",
              "      <td>1.0</td>\n",
              "    </tr>\n",
              "    <tr>\n",
              "      <th>3</th>\n",
              "      <td>1.0</td>\n",
              "    </tr>\n",
              "    <tr>\n",
              "      <th>4</th>\n",
              "      <td>1.0</td>\n",
              "    </tr>\n",
              "    <tr>\n",
              "      <th>...</th>\n",
              "      <td>...</td>\n",
              "    </tr>\n",
              "    <tr>\n",
              "      <th>21707</th>\n",
              "      <td>0.0</td>\n",
              "    </tr>\n",
              "    <tr>\n",
              "      <th>21708</th>\n",
              "      <td>0.0</td>\n",
              "    </tr>\n",
              "    <tr>\n",
              "      <th>21709</th>\n",
              "      <td>1.0</td>\n",
              "    </tr>\n",
              "    <tr>\n",
              "      <th>21710</th>\n",
              "      <td>0.0</td>\n",
              "    </tr>\n",
              "    <tr>\n",
              "      <th>21711</th>\n",
              "      <td>1.0</td>\n",
              "    </tr>\n",
              "  </tbody>\n",
              "</table>\n",
              "<p>21712 rows × 1 columns</p>\n",
              "</div>\n",
              "    <div class=\"colab-df-buttons\">\n",
              "\n",
              "  <div class=\"colab-df-container\">\n",
              "    <button class=\"colab-df-convert\" onclick=\"convertToInteractive('df-11be9caa-9fc6-41d1-9561-0d5e37222a84')\"\n",
              "            title=\"Convert this dataframe to an interactive table.\"\n",
              "            style=\"display:none;\">\n",
              "\n",
              "  <svg xmlns=\"http://www.w3.org/2000/svg\" height=\"24px\" viewBox=\"0 -960 960 960\">\n",
              "    <path d=\"M120-120v-720h720v720H120Zm60-500h600v-160H180v160Zm220 220h160v-160H400v160Zm0 220h160v-160H400v160ZM180-400h160v-160H180v160Zm440 0h160v-160H620v160ZM180-180h160v-160H180v160Zm440 0h160v-160H620v160Z\"/>\n",
              "  </svg>\n",
              "    </button>\n",
              "\n",
              "  <style>\n",
              "    .colab-df-container {\n",
              "      display:flex;\n",
              "      gap: 12px;\n",
              "    }\n",
              "\n",
              "    .colab-df-convert {\n",
              "      background-color: #E8F0FE;\n",
              "      border: none;\n",
              "      border-radius: 50%;\n",
              "      cursor: pointer;\n",
              "      display: none;\n",
              "      fill: #1967D2;\n",
              "      height: 32px;\n",
              "      padding: 0 0 0 0;\n",
              "      width: 32px;\n",
              "    }\n",
              "\n",
              "    .colab-df-convert:hover {\n",
              "      background-color: #E2EBFA;\n",
              "      box-shadow: 0px 1px 2px rgba(60, 64, 67, 0.3), 0px 1px 3px 1px rgba(60, 64, 67, 0.15);\n",
              "      fill: #174EA6;\n",
              "    }\n",
              "\n",
              "    .colab-df-buttons div {\n",
              "      margin-bottom: 4px;\n",
              "    }\n",
              "\n",
              "    [theme=dark] .colab-df-convert {\n",
              "      background-color: #3B4455;\n",
              "      fill: #D2E3FC;\n",
              "    }\n",
              "\n",
              "    [theme=dark] .colab-df-convert:hover {\n",
              "      background-color: #434B5C;\n",
              "      box-shadow: 0px 1px 3px 1px rgba(0, 0, 0, 0.15);\n",
              "      filter: drop-shadow(0px 1px 2px rgba(0, 0, 0, 0.3));\n",
              "      fill: #FFFFFF;\n",
              "    }\n",
              "  </style>\n",
              "\n",
              "    <script>\n",
              "      const buttonEl =\n",
              "        document.querySelector('#df-11be9caa-9fc6-41d1-9561-0d5e37222a84 button.colab-df-convert');\n",
              "      buttonEl.style.display =\n",
              "        google.colab.kernel.accessAllowed ? 'block' : 'none';\n",
              "\n",
              "      async function convertToInteractive(key) {\n",
              "        const element = document.querySelector('#df-11be9caa-9fc6-41d1-9561-0d5e37222a84');\n",
              "        const dataTable =\n",
              "          await google.colab.kernel.invokeFunction('convertToInteractive',\n",
              "                                                    [key], {});\n",
              "        if (!dataTable) return;\n",
              "\n",
              "        const docLinkHtml = 'Like what you see? Visit the ' +\n",
              "          '<a target=\"_blank\" href=https://colab.research.google.com/notebooks/data_table.ipynb>data table notebook</a>'\n",
              "          + ' to learn more about interactive tables.';\n",
              "        element.innerHTML = '';\n",
              "        dataTable['output_type'] = 'display_data';\n",
              "        await google.colab.output.renderOutput(dataTable, element);\n",
              "        const docLink = document.createElement('div');\n",
              "        docLink.innerHTML = docLinkHtml;\n",
              "        element.appendChild(docLink);\n",
              "      }\n",
              "    </script>\n",
              "  </div>\n",
              "\n",
              "\n",
              "    <div id=\"df-83ed4912-8584-4b0c-89ac-e91ad02dc6ed\">\n",
              "      <button class=\"colab-df-quickchart\" onclick=\"quickchart('df-83ed4912-8584-4b0c-89ac-e91ad02dc6ed')\"\n",
              "                title=\"Suggest charts\"\n",
              "                style=\"display:none;\">\n",
              "\n",
              "<svg xmlns=\"http://www.w3.org/2000/svg\" height=\"24px\"viewBox=\"0 0 24 24\"\n",
              "     width=\"24px\">\n",
              "    <g>\n",
              "        <path d=\"M19 3H5c-1.1 0-2 .9-2 2v14c0 1.1.9 2 2 2h14c1.1 0 2-.9 2-2V5c0-1.1-.9-2-2-2zM9 17H7v-7h2v7zm4 0h-2V7h2v10zm4 0h-2v-4h2v4z\"/>\n",
              "    </g>\n",
              "</svg>\n",
              "      </button>\n",
              "\n",
              "<style>\n",
              "  .colab-df-quickchart {\n",
              "      --bg-color: #E8F0FE;\n",
              "      --fill-color: #1967D2;\n",
              "      --hover-bg-color: #E2EBFA;\n",
              "      --hover-fill-color: #174EA6;\n",
              "      --disabled-fill-color: #AAA;\n",
              "      --disabled-bg-color: #DDD;\n",
              "  }\n",
              "\n",
              "  [theme=dark] .colab-df-quickchart {\n",
              "      --bg-color: #3B4455;\n",
              "      --fill-color: #D2E3FC;\n",
              "      --hover-bg-color: #434B5C;\n",
              "      --hover-fill-color: #FFFFFF;\n",
              "      --disabled-bg-color: #3B4455;\n",
              "      --disabled-fill-color: #666;\n",
              "  }\n",
              "\n",
              "  .colab-df-quickchart {\n",
              "    background-color: var(--bg-color);\n",
              "    border: none;\n",
              "    border-radius: 50%;\n",
              "    cursor: pointer;\n",
              "    display: none;\n",
              "    fill: var(--fill-color);\n",
              "    height: 32px;\n",
              "    padding: 0;\n",
              "    width: 32px;\n",
              "  }\n",
              "\n",
              "  .colab-df-quickchart:hover {\n",
              "    background-color: var(--hover-bg-color);\n",
              "    box-shadow: 0 1px 2px rgba(60, 64, 67, 0.3), 0 1px 3px 1px rgba(60, 64, 67, 0.15);\n",
              "    fill: var(--button-hover-fill-color);\n",
              "  }\n",
              "\n",
              "  .colab-df-quickchart-complete:disabled,\n",
              "  .colab-df-quickchart-complete:disabled:hover {\n",
              "    background-color: var(--disabled-bg-color);\n",
              "    fill: var(--disabled-fill-color);\n",
              "    box-shadow: none;\n",
              "  }\n",
              "\n",
              "  .colab-df-spinner {\n",
              "    border: 2px solid var(--fill-color);\n",
              "    border-color: transparent;\n",
              "    border-bottom-color: var(--fill-color);\n",
              "    animation:\n",
              "      spin 1s steps(1) infinite;\n",
              "  }\n",
              "\n",
              "  @keyframes spin {\n",
              "    0% {\n",
              "      border-color: transparent;\n",
              "      border-bottom-color: var(--fill-color);\n",
              "      border-left-color: var(--fill-color);\n",
              "    }\n",
              "    20% {\n",
              "      border-color: transparent;\n",
              "      border-left-color: var(--fill-color);\n",
              "      border-top-color: var(--fill-color);\n",
              "    }\n",
              "    30% {\n",
              "      border-color: transparent;\n",
              "      border-left-color: var(--fill-color);\n",
              "      border-top-color: var(--fill-color);\n",
              "      border-right-color: var(--fill-color);\n",
              "    }\n",
              "    40% {\n",
              "      border-color: transparent;\n",
              "      border-right-color: var(--fill-color);\n",
              "      border-top-color: var(--fill-color);\n",
              "    }\n",
              "    60% {\n",
              "      border-color: transparent;\n",
              "      border-right-color: var(--fill-color);\n",
              "    }\n",
              "    80% {\n",
              "      border-color: transparent;\n",
              "      border-right-color: var(--fill-color);\n",
              "      border-bottom-color: var(--fill-color);\n",
              "    }\n",
              "    90% {\n",
              "      border-color: transparent;\n",
              "      border-bottom-color: var(--fill-color);\n",
              "    }\n",
              "  }\n",
              "</style>\n",
              "\n",
              "      <script>\n",
              "        async function quickchart(key) {\n",
              "          const quickchartButtonEl =\n",
              "            document.querySelector('#' + key + ' button');\n",
              "          quickchartButtonEl.disabled = true;  // To prevent multiple clicks.\n",
              "          quickchartButtonEl.classList.add('colab-df-spinner');\n",
              "          try {\n",
              "            const charts = await google.colab.kernel.invokeFunction(\n",
              "                'suggestCharts', [key], {});\n",
              "          } catch (error) {\n",
              "            console.error('Error during call to suggestCharts:', error);\n",
              "          }\n",
              "          quickchartButtonEl.classList.remove('colab-df-spinner');\n",
              "          quickchartButtonEl.classList.add('colab-df-quickchart-complete');\n",
              "        }\n",
              "        (() => {\n",
              "          let quickchartButtonEl =\n",
              "            document.querySelector('#df-83ed4912-8584-4b0c-89ac-e91ad02dc6ed button');\n",
              "          quickchartButtonEl.style.display =\n",
              "            google.colab.kernel.accessAllowed ? 'block' : 'none';\n",
              "        })();\n",
              "      </script>\n",
              "    </div>\n",
              "\n",
              "  <div id=\"id_1462121f-a3cb-4450-b858-34c910b06888\">\n",
              "    <style>\n",
              "      .colab-df-generate {\n",
              "        background-color: #E8F0FE;\n",
              "        border: none;\n",
              "        border-radius: 50%;\n",
              "        cursor: pointer;\n",
              "        display: none;\n",
              "        fill: #1967D2;\n",
              "        height: 32px;\n",
              "        padding: 0 0 0 0;\n",
              "        width: 32px;\n",
              "      }\n",
              "\n",
              "      .colab-df-generate:hover {\n",
              "        background-color: #E2EBFA;\n",
              "        box-shadow: 0px 1px 2px rgba(60, 64, 67, 0.3), 0px 1px 3px 1px rgba(60, 64, 67, 0.15);\n",
              "        fill: #174EA6;\n",
              "      }\n",
              "\n",
              "      [theme=dark] .colab-df-generate {\n",
              "        background-color: #3B4455;\n",
              "        fill: #D2E3FC;\n",
              "      }\n",
              "\n",
              "      [theme=dark] .colab-df-generate:hover {\n",
              "        background-color: #434B5C;\n",
              "        box-shadow: 0px 1px 3px 1px rgba(0, 0, 0, 0.15);\n",
              "        filter: drop-shadow(0px 1px 2px rgba(0, 0, 0, 0.3));\n",
              "        fill: #FFFFFF;\n",
              "      }\n",
              "    </style>\n",
              "    <button class=\"colab-df-generate\" onclick=\"generateWithVariable('submission')\"\n",
              "            title=\"Generate code using this dataframe.\"\n",
              "            style=\"display:none;\">\n",
              "\n",
              "  <svg xmlns=\"http://www.w3.org/2000/svg\" height=\"24px\"viewBox=\"0 0 24 24\"\n",
              "       width=\"24px\">\n",
              "    <path d=\"M7,19H8.4L18.45,9,17,7.55,7,17.6ZM5,21V16.75L18.45,3.32a2,2,0,0,1,2.83,0l1.4,1.43a1.91,1.91,0,0,1,.58,1.4,1.91,1.91,0,0,1-.58,1.4L9.25,21ZM18.45,9,17,7.55Zm-12,3A5.31,5.31,0,0,0,4.9,8.1,5.31,5.31,0,0,0,1,6.5,5.31,5.31,0,0,0,4.9,4.9,5.31,5.31,0,0,0,6.5,1,5.31,5.31,0,0,0,8.1,4.9,5.31,5.31,0,0,0,12,6.5,5.46,5.46,0,0,0,6.5,12Z\"/>\n",
              "  </svg>\n",
              "    </button>\n",
              "    <script>\n",
              "      (() => {\n",
              "      const buttonEl =\n",
              "        document.querySelector('#id_1462121f-a3cb-4450-b858-34c910b06888 button.colab-df-generate');\n",
              "      buttonEl.style.display =\n",
              "        google.colab.kernel.accessAllowed ? 'block' : 'none';\n",
              "\n",
              "      buttonEl.onclick = () => {\n",
              "        google.colab.notebook.generateWithVariable('submission');\n",
              "      }\n",
              "      })();\n",
              "    </script>\n",
              "  </div>\n",
              "\n",
              "    </div>\n",
              "  </div>\n"
            ],
            "application/vnd.google.colaboratory.intrinsic+json": {
              "type": "dataframe",
              "variable_name": "submission",
              "summary": "{\n  \"name\": \"submission\",\n  \"rows\": 21712,\n  \"fields\": [\n    {\n      \"column\": \"attack\",\n      \"properties\": {\n        \"dtype\": \"number\",\n        \"std\": 0.4849666578397883,\n        \"min\": 0.0,\n        \"max\": 1.0,\n        \"num_unique_values\": 2,\n        \"samples\": [\n          0.0,\n          1.0\n        ],\n        \"semantic_type\": \"\",\n        \"description\": \"\"\n      }\n    }\n  ]\n}"
            }
          },
          "metadata": {},
          "execution_count": 107
        }
      ],
      "source": [
        "submission"
      ]
    },
    {
      "cell_type": "code",
      "execution_count": 108,
      "id": "597b5b84",
      "metadata": {
        "id": "597b5b84"
      },
      "outputs": [],
      "source": [
        "submission.to_csv('submission.csv')"
      ]
    },
    {
      "cell_type": "code",
      "execution_count": 91,
      "id": "c9d5f148",
      "metadata": {
        "id": "c9d5f148"
      },
      "outputs": [],
      "source": []
    }
  ],
  "metadata": {
    "kernelspec": {
      "display_name": "Python 3 (ipykernel)",
      "language": "python",
      "name": "python3"
    },
    "language_info": {
      "codemirror_mode": {
        "name": "ipython",
        "version": 3
      },
      "file_extension": ".py",
      "mimetype": "text/x-python",
      "name": "python",
      "nbconvert_exporter": "python",
      "pygments_lexer": "ipython3",
      "version": "3.11.7"
    },
    "colab": {
      "provenance": []
    }
  },
  "nbformat": 4,
  "nbformat_minor": 5
}